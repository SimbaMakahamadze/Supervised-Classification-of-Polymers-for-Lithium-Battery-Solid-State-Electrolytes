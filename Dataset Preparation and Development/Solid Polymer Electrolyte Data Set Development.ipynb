{
 "cells": [
  {
   "cell_type": "code",
   "execution_count": 18,
   "id": "2bfa47dd",
   "metadata": {},
   "outputs": [],
   "source": [
    "import pandas as pd, numpy as np"
   ]
  },
  {
   "cell_type": "code",
   "execution_count": 19,
   "id": "78bd972a",
   "metadata": {},
   "outputs": [],
   "source": [
    "df = pd.read_csv(\"data.csv\", index_col='Index', encoding='ISO-8859-1')"
   ]
  },
  {
   "cell_type": "code",
   "execution_count": 20,
   "id": "47b7e109",
   "metadata": {},
   "outputs": [
    {
     "data": {
      "text/plain": [
       "(655, 304)"
      ]
     },
     "execution_count": 20,
     "metadata": {},
     "output_type": "execute_result"
    }
   ],
   "source": [
    "np.shape(df)"
   ]
  },
  {
   "cell_type": "code",
   "execution_count": 21,
   "id": "779bc3c7",
   "metadata": {},
   "outputs": [
    {
     "name": "stdout",
     "output_type": "stream",
     "text": [
      "<class 'pandas.core.frame.DataFrame'>\n",
      "Int64Index: 655 entries, 0 to 654\n",
      "Columns: 304 entries, Polymer system Notes to approxMW(kDa)\n",
      "dtypes: float64(190), int64(72), object(42)\n",
      "memory usage: 1.5+ MB\n",
      "None\n"
     ]
    }
   ],
   "source": [
    "print(df.info())"
   ]
  },
  {
   "cell_type": "code",
   "execution_count": 22,
   "id": "6ec59bad",
   "metadata": {},
   "outputs": [],
   "source": [
    "feature_set = ['Polymer', 'SMILES descriptor 1', 'Conductivity at 30C', 'Conductivity at 60C',]"
   ]
  },
  {
   "cell_type": "code",
   "execution_count": 23,
   "id": "f49402f1",
   "metadata": {},
   "outputs": [],
   "source": [
    "homopolymers = df.loc[df['SMILES descriptor 1'] == df['SMILES descriptor 2']]"
   ]
  },
  {
   "cell_type": "code",
   "execution_count": 24,
   "id": "4462bdb1",
   "metadata": {},
   "outputs": [
    {
     "name": "stdout",
     "output_type": "stream",
     "text": [
      "<class 'pandas.core.frame.DataFrame'>\n",
      "Int64Index: 448 entries, 33 to 591\n",
      "Columns: 304 entries, Polymer system Notes to approxMW(kDa)\n",
      "dtypes: float64(190), int64(72), object(42)\n",
      "memory usage: 1.0+ MB\n"
     ]
    }
   ],
   "source": [
    "homopolymers.info()"
   ]
  },
  {
   "cell_type": "code",
   "execution_count": 25,
   "id": "a2e31ae9",
   "metadata": {},
   "outputs": [],
   "source": [
    "db = homopolymers[feature_set].copy()"
   ]
  },
  {
   "cell_type": "code",
   "execution_count": 26,
   "id": "0919b768",
   "metadata": {
    "scrolled": true
   },
   "outputs": [],
   "source": [
    "db['Conductivity at 30C'] = db['Conductivity at 30C'].apply(np.log10)\n",
    "db['Conductivity at 60C'] = db['Conductivity at 60C'].apply(np.log10)"
   ]
  },
  {
   "cell_type": "code",
   "execution_count": 27,
   "id": "64ecfb69",
   "metadata": {},
   "outputs": [
    {
     "name": "stdout",
     "output_type": "stream",
     "text": [
      "                                                 Polymer  \\\n",
      "Index                                                      \n",
      "33                                polyethylene carbonate   \n",
      "34                                polyethylene carbonate   \n",
      "35                                polyethylene carbonate   \n",
      "36                                polyethylene carbonate   \n",
      "37              poly(butyl ether 1,2-glycerol carbonate)   \n",
      "...                                                  ...   \n",
      "587    ï»¿poly[bis(2-(2-methoxyethoxy)ethoxy)phosphaz...   \n",
      "588    ï»¿poly[bis(2-(2-methoxyethoxy)ethoxy)phosphaz...   \n",
      "589    ï»¿poly[bis(2-(2-methoxyethoxy)ethoxy)phosphaz...   \n",
      "590    ï»¿poly[bis(2-(2-methoxyethoxy)ethoxy)phosphaz...   \n",
      "591    ï»¿poly[bis(2-(2-methoxyethoxy)ethoxy)phosphaz...   \n",
      "\n",
      "           SMILES descriptor 1  Conductivity at 30C  Conductivity at 60C  \n",
      "Index                                                                     \n",
      "33                   COC(=O)OC           -10.970616            -8.440093  \n",
      "34                   COC(=O)OC           -10.040005            -7.219683  \n",
      "35                   COC(=O)OC            -7.669586            -5.931814  \n",
      "36                   COC(=O)OC            -6.010105            -4.958607  \n",
      "37           COC(=O)OC(COCCCC)                  NaN            -4.038579  \n",
      "...                        ...                  ...                  ...  \n",
      "587    P(OCCOCCOC)(OCCOCCOC)=N            -4.373660            -3.902795  \n",
      "588    P(OCCOCCOC)(OCCOCCOC)=N            -4.043351            -3.537261  \n",
      "589    P(OCCOCCOC)(OCCOCCOC)=N            -3.985980            -3.447766  \n",
      "590    P(OCCOCCOC)(OCCOCCOC)=N            -3.852884            -3.239798  \n",
      "591    P(OCCOCCOC)(OCCOCCOC)=N            -5.939302            -4.716699  \n",
      "\n",
      "[448 rows x 4 columns]\n"
     ]
    }
   ],
   "source": [
    "print(db)"
   ]
  },
  {
   "cell_type": "code",
   "execution_count": 28,
   "id": "284fbe65",
   "metadata": {},
   "outputs": [
    {
     "name": "stdout",
     "output_type": "stream",
     "text": [
      "<class 'pandas.core.frame.DataFrame'>\n",
      "Int64Index: 448 entries, 33 to 591\n",
      "Data columns (total 4 columns):\n",
      " #   Column               Non-Null Count  Dtype  \n",
      "---  ------               --------------  -----  \n",
      " 0   Polymer              448 non-null    object \n",
      " 1   SMILES descriptor 1  448 non-null    object \n",
      " 2   Conductivity at 30C  201 non-null    float64\n",
      " 3   Conductivity at 60C  262 non-null    float64\n",
      "dtypes: float64(2), object(2)\n",
      "memory usage: 17.5+ KB\n"
     ]
    }
   ],
   "source": [
    "db.info()"
   ]
  },
  {
   "cell_type": "code",
   "execution_count": 29,
   "id": "6cd271a0",
   "metadata": {},
   "outputs": [],
   "source": [
    "db = db.dropna(axis=0, how='all', subset=['Conductivity at 30C', 'Conductivity at 60C',])"
   ]
  },
  {
   "cell_type": "code",
   "execution_count": 30,
   "id": "f5713f50",
   "metadata": {},
   "outputs": [
    {
     "name": "stdout",
     "output_type": "stream",
     "text": [
      "<class 'pandas.core.frame.DataFrame'>\n",
      "Int64Index: 271 entries, 33 to 591\n",
      "Data columns (total 4 columns):\n",
      " #   Column               Non-Null Count  Dtype  \n",
      "---  ------               --------------  -----  \n",
      " 0   Polymer              271 non-null    object \n",
      " 1   SMILES descriptor 1  271 non-null    object \n",
      " 2   Conductivity at 30C  201 non-null    float64\n",
      " 3   Conductivity at 60C  262 non-null    float64\n",
      "dtypes: float64(2), object(2)\n",
      "memory usage: 10.6+ KB\n"
     ]
    }
   ],
   "source": [
    "db.info()"
   ]
  },
  {
   "cell_type": "code",
   "execution_count": 31,
   "id": "98bc7b9d",
   "metadata": {},
   "outputs": [],
   "source": [
    "db = db.sort_values(by=['Conductivity at 30C', 'Conductivity at 60C'], ascending=False)"
   ]
  },
  {
   "cell_type": "code",
   "execution_count": 32,
   "id": "deb268d6",
   "metadata": {},
   "outputs": [
    {
     "name": "stdout",
     "output_type": "stream",
     "text": [
      "<class 'pandas.core.frame.DataFrame'>\n",
      "Int64Index: 271 entries, 227 to 459\n",
      "Data columns (total 4 columns):\n",
      " #   Column               Non-Null Count  Dtype  \n",
      "---  ------               --------------  -----  \n",
      " 0   Polymer              271 non-null    object \n",
      " 1   SMILES descriptor 1  271 non-null    object \n",
      " 2   Conductivity at 30C  201 non-null    float64\n",
      " 3   Conductivity at 60C  262 non-null    float64\n",
      "dtypes: float64(2), object(2)\n",
      "memory usage: 10.6+ KB\n"
     ]
    }
   ],
   "source": [
    "db.info()"
   ]
  },
  {
   "cell_type": "code",
   "execution_count": 33,
   "id": "617a6bc6",
   "metadata": {
    "collapsed": true
   },
   "outputs": [
    {
     "name": "stdout",
     "output_type": "stream",
     "text": [
      "      Polymer SMILES descriptor 1  Conductivity at 30C  Conductivity at 60C\n",
      "Index                                                                      \n",
      "392       PEO                 COC            -5.062482            -3.558844\n",
      "279       PEO                 COC            -6.251812            -4.204120\n",
      "391       PEO                 COC            -6.378824            -3.970275\n",
      "378       PEO                 COC            -6.596879            -5.344862\n",
      "278       PEO                 COC            -6.879426            -3.855943\n",
      "276       PEO                 COC            -6.892790            -3.590928\n",
      "285       PEO                 COC            -6.920819            -3.352546\n",
      "269       PEO                 COC            -6.924453            -5.261219\n",
      "455       PEO                 COC            -6.946922            -4.454693\n",
      "267       PEO                 COC            -6.946922            -4.514279\n",
      "466       PEO                 COC            -7.015023            -4.417937\n",
      "266       PEO                 COC            -7.095826            -4.742321\n",
      "460       PEO                 COC            -7.199283            -4.344862\n",
      "454       PEO                 COC            -7.204120            -4.394695\n",
      "277       PEO                 COC            -7.225483            -3.660755\n",
      "281       PEO                 COC            -7.379864            -5.056011\n",
      "282       PEO                 COC            -7.432974            -4.302771\n",
      "264       PEO                 COC            -7.484126            -5.415669\n",
      "461       PEO                 COC            -7.518557            -4.612610\n",
      "265       PEO                 COC            -7.542118            -5.068034\n",
      "462       PEO                 COC            -7.565431            -5.866461\n",
      "274       PEO                 COC            -7.759451            -5.482804\n",
      "464       PEO                 COC            -7.856985            -7.099633\n",
      "275       PEO                 COC            -7.924453            -4.677781\n",
      "410       PEO                 COC            -8.141463            -7.291579\n",
      "273       PEO                 COC            -8.179142            -5.078834\n",
      "457       PEO                 COC            -8.222573            -6.432974\n",
      "283       PEO                 COC            -8.225483            -3.605934\n",
      "463       PEO                 COC            -8.413413            -6.524329\n",
      "261       PEO                 COC            -8.420216            -6.373660\n",
      "263       PEO                 COC            -8.452225            -5.841638\n",
      "284       PEO                 COC            -8.593460            -3.618524\n",
      "411       PEO                 COC            -9.271646            -8.679854\n",
      "382       PEO                 COC            -9.289883            -5.045275\n",
      "465       PEO                 COC            -9.777284            -8.634512\n",
      "381       PEO                 COC            -9.928118            -4.823909\n",
      "380       PEO                 COC           -10.863279            -7.189767\n",
      "379       PEO                 COC           -12.536107            -8.298432\n",
      "The best performing PEO system,  Polymer                     PEO\n",
      "SMILES descriptor 1         COC\n",
      "Conductivity at 30C   -5.062482\n",
      "Conductivity at 60C   -3.558844\n",
      "Name: 392, dtype: object\n",
      "The typical PEO has conductivities, -7.850508265228933 and -5.22866502529741\n",
      "at 30 and 60C respectively.\n"
     ]
    }
   ],
   "source": [
    "peo = db[db['Polymer'].str.contains(\"PEO\")].copy()\n",
    "every_peo = peo.index\n",
    "peo.sort_values(by=['Conductivity at 30C', 'Conductivity at 60C'], ascending=False, inplace=True)\n",
    "peo = peo.dropna(axis=0, how='any', subset=['Conductivity at 30C', 'Conductivity at 60C'])\n",
    "benchmark = db.loc[392]\n",
    "db = db.drop(every_peo)\n",
    "print(peo)\n",
    "typical_conductivity_at_30C = peo['Conductivity at 30C'].mean()\n",
    "typical_conductivity_at_60C = peo['Conductivity at 60C'].mean()\n",
    "\n",
    "print(f\"The best performing PEO system, \", benchmark)\n",
    "print(f\"The typical PEO has conductivities, {typical_conductivity_at_30C} and {typical_conductivity_at_60C}\\nat 30 and 60C respectively.\")"
   ]
  },
  {
   "cell_type": "code",
   "execution_count": 34,
   "id": "cf22f874",
   "metadata": {},
   "outputs": [
    {
     "name": "stdout",
     "output_type": "stream",
     "text": [
      "                                                 Polymer  \\\n",
      "Index                                                      \n",
      "227    poly(1,4-bis(bromomethyl)-2,3,5,6-teramethylbe...   \n",
      "69                          poly carbosilane dicarbonate   \n",
      "590    ï»¿poly[bis(2-(2-methoxyethoxy)ethoxy)phosphaz...   \n",
      "589    ï»¿poly[bis(2-(2-methoxyethoxy)ethoxy)phosphaz...   \n",
      "588    ï»¿poly[bis(2-(2-methoxyethoxy)ethoxy)phosphaz...   \n",
      "...                                                  ...   \n",
      "205                           poly(N-methylethylenimine)   \n",
      "208                           poly(N-methylethylenimine)   \n",
      "150                            Poly (ethylene succinate)   \n",
      "145                             poly(vinylene carbonate)   \n",
      "144                             poly(vinylene carbonate)   \n",
      "\n",
      "                                     SMILES descriptor 1  Conductivity at 30C  \\\n",
      "Index                                                                           \n",
      "227    C1(=C(C)C(C)=CC(C)=C1(C))COCP(=S)(CC1=CC=CC=C1...            -3.051753   \n",
      "69                 C[Si](CCC1COC(=O)O1)(CCC2COC(=O)O2)CC            -3.823909   \n",
      "590                              P(OCCOCCOC)(OCCOCCOC)=N            -3.852884   \n",
      "589                              P(OCCOCCOC)(OCCOCCOC)=N            -3.985980   \n",
      "588                              P(OCCOCCOC)(OCCOCCOC)=N            -4.043351   \n",
      "...                                                  ...                  ...   \n",
      "205                                               CN(C)C                  NaN   \n",
      "208                                               CN(C)C                  NaN   \n",
      "150                                     COC(=O)CCC(=O)OC                  NaN   \n",
      "145                           C1C(OC(=O)O1)C2C(OC(=O)O2)                  NaN   \n",
      "144                           C1C(OC(=O)O1)C2C(OC(=O)O2)                  NaN   \n",
      "\n",
      "       Conductivity at 60C  \n",
      "Index                       \n",
      "227              -2.475793  \n",
      "69               -3.269218  \n",
      "590              -3.239798  \n",
      "589              -3.447766  \n",
      "588              -3.537261  \n",
      "...                    ...  \n",
      "205              -7.030118  \n",
      "208              -7.591760  \n",
      "150              -7.692504  \n",
      "145              -7.716699  \n",
      "144              -8.203426  \n",
      "\n",
      "[188 rows x 4 columns]\n"
     ]
    }
   ],
   "source": [
    "print(db)"
   ]
  },
  {
   "cell_type": "code",
   "execution_count": 35,
   "id": "88c25d91",
   "metadata": {},
   "outputs": [
    {
     "name": "stdout",
     "output_type": "stream",
     "text": [
      "<class 'pandas.core.frame.DataFrame'>\n",
      "Int64Index: 188 entries, 227 to 144\n",
      "Data columns (total 4 columns):\n",
      " #   Column               Non-Null Count  Dtype  \n",
      "---  ------               --------------  -----  \n",
      " 0   Polymer              188 non-null    object \n",
      " 1   SMILES descriptor 1  188 non-null    object \n",
      " 2   Conductivity at 30C  158 non-null    float64\n",
      " 3   Conductivity at 60C  184 non-null    float64\n",
      "dtypes: float64(2), object(2)\n",
      "memory usage: 7.3+ KB\n"
     ]
    }
   ],
   "source": [
    "db.info()"
   ]
  },
  {
   "cell_type": "code",
   "execution_count": 36,
   "id": "7af80769",
   "metadata": {},
   "outputs": [],
   "source": [
    "db = db.drop_duplicates(subset=['SMILES descriptor 1'], keep='first')"
   ]
  },
  {
   "cell_type": "code",
   "execution_count": 38,
   "id": "a0b7a780",
   "metadata": {},
   "outputs": [
    {
     "name": "stdout",
     "output_type": "stream",
     "text": [
      "<class 'pandas.core.frame.DataFrame'>\n",
      "Int64Index: 52 entries, 227 to 150\n",
      "Data columns (total 4 columns):\n",
      " #   Column               Non-Null Count  Dtype  \n",
      "---  ------               --------------  -----  \n",
      " 0   Polymer              52 non-null     object \n",
      " 1   SMILES descriptor 1  52 non-null     object \n",
      " 2   Conductivity at 30C  43 non-null     float64\n",
      " 3   Conductivity at 60C  52 non-null     float64\n",
      "dtypes: float64(2), object(2)\n",
      "memory usage: 2.0+ KB\n"
     ]
    }
   ],
   "source": [
    "db.info()"
   ]
  },
  {
   "cell_type": "code",
   "execution_count": 39,
   "id": "eecda96b",
   "metadata": {},
   "outputs": [
    {
     "name": "stdout",
     "output_type": "stream",
     "text": [
      "True     0.673077\n",
      "False    0.326923\n",
      "dtype: float64\n"
     ]
    }
   ],
   "source": [
    "Y = (db['Conductivity at 60C'] > typical_conductivity_at_60C) & (db['Conductivity at 30C'] > typical_conductivity_at_30C)\n",
    "print(Y.value_counts(normalize=True))"
   ]
  },
  {
   "cell_type": "code",
   "execution_count": 40,
   "id": "f624ac4e",
   "metadata": {},
   "outputs": [],
   "source": [
    "db['Y'] = Y"
   ]
  },
  {
   "cell_type": "code",
   "execution_count": 791,
   "id": "0f7a5875",
   "metadata": {
    "collapsed": true
   },
   "outputs": [
    {
     "name": "stdout",
     "output_type": "stream",
     "text": [
      "                                                 Polymer  \\\n",
      "Index                                                      \n",
      "227    poly(1,4-bis(bromomethyl)-2,3,5,6-teramethylbe...   \n",
      "69                          poly carbosilane dicarbonate   \n",
      "590    ï»¿poly[bis(2-(2-methoxyethoxy)ethoxy)phosphaz...   \n",
      "58                            poly carbosilane carbonate   \n",
      "558                                    polyepoxide ether   \n",
      "556                                      polyvinyl ether   \n",
      "559             oxymethylene-linked poly(ethylene oxide)   \n",
      "537                          poly (allyl glycidyl ether)   \n",
      "547    ï»¿poly(methoxy polyethylene glycol monomethac...   \n",
      "541     poly (allyl glycidyl ether tri(ethylene glycol))   \n",
      "555                                      polyvinyl ether   \n",
      "105                      Poly(1,6-hexamethylene adipate)   \n",
      "540      poly (allyl glycidyl ether di(ethylene glycol))   \n",
      "552                                   polyacrylate ether   \n",
      "94                                Poly(ethylene adipate)   \n",
      "553                                   polyacrylate ether   \n",
      "557                                polyvinylbenzyl ether   \n",
      "554                                      polyvinyl ether   \n",
      "101                           Poly(1,4-butylene adipate)   \n",
      "546    ï»¿poly(methoxy polyethylene glycol monomethac...   \n",
      "109                                     Polycaprolactone   \n",
      "221                                   poly(ethylenimine)   \n",
      "130                                                   2a   \n",
      "551                                   polyacrylate ether   \n",
      "50                             poly(methyl methacrylate)   \n",
      "154               poly(1,3- diacetyl-4-imidazolin-2-one)   \n",
      "113                                                   1a   \n",
      "51                                  poly(butyl acrylate)   \n",
      "467                                 poly(ethylene oxide)   \n",
      "87                               poly(ethylene malonate)   \n",
      "36                                polyethylene carbonate   \n",
      "259                poly(vinyl methyl siloxane imidazole)   \n",
      "139                                                   2b   \n",
      "174                   poly((N -2-cyanoethyl)ethylenimine   \n",
      "550                                   polyacrylate ether   \n",
      "166                                polymethacrylonitrile   \n",
      "196                                   poly(ethylenimine)   \n",
      "235           poly(allyl glycidyl ether amide imidazole)   \n",
      "184                       Poly(hydroxyethylmethacrylate)   \n",
      "244    poly(vinyl methyl siloxane amide imidazole -co...   \n",
      "151                              poly(ethylene sebacate)   \n",
      "121                                                   1b   \n",
      "238                      poly(butadiene amide imidazole)   \n",
      "37              poly(butyl ether 1,2-glycerol carbonate)   \n",
      "232       poly[2,6-dimethoxy-N-(4-vinylphenyl)benzamide]   \n",
      "565    ï»¿poly N-(2-(2-(2-methoxyethoxy)ethoxy)ethyl)...   \n",
      "564          poly ï»¿N-(2-(2-methoxyethoxy)ethyl)glycine   \n",
      "185                           poly(hydroxyethylacrylate)   \n",
      "143                             poly(vinylene carbonate)   \n",
      "165                                    polyacrylonitrile   \n",
      "563                   poly ï»¿N-(2-methoxylethyl)glycine   \n",
      "150                            Poly (ethylene succinate)   \n",
      "\n",
      "                                     SMILES descriptor 1  Conductivity at 30C  \\\n",
      "Index                                                                           \n",
      "227    C1(=C(C)C(C)=CC(C)=C1(C))COCP(=S)(CC1=CC=CC=C1...            -3.051753   \n",
      "69                 C[Si](CCC1COC(=O)O1)(CCC2COC(=O)O2)CC            -3.823909   \n",
      "590                              P(OCCOCCOC)(OCCOCCOC)=N            -3.852884   \n",
      "58                             C[Si](C)(CCC1COC(=O)O1)CC            -4.212540   \n",
      "558                              C(COCCOCCOCCOCCOCCOC)OC            -4.351640   \n",
      "556                                C(OCCOCCOCCOCCOCCOC)C            -4.370590   \n",
      "559                        COCCOCCOCCOCCOCCOCCOCCOCCOCOC            -4.377786   \n",
      "537                                          C(COCC=C)OC            -4.389340   \n",
      "547    CC(C(=O)OCCOCCOCCOCCOCCOCCOCCOCCOCCOCCOCCOCCOC...            -4.471083   \n",
      "541                                C(COCCCSCCOCCOCCOC)OC            -4.482804   \n",
      "555                                   C(OCCOCCOCCOCCOC)C            -4.505845   \n",
      "105                               COC(=O)CCCCC(=O)OCCCCC            -4.510042   \n",
      "540                                   C(COCCCSCCOCCOC)OC            -4.514279   \n",
      "552                            C(C(=O)OCCOCCOCCOCCOCCOC)            -4.549751   \n",
      "94                                    COC(=O)CCCCC(=O)OC            -4.567031   \n",
      "553                         C(C(=O)OCCOCCOCCOCCOCCOCCOC)            -4.647817   \n",
      "557                  C(C1=CC=C(COCCOCCOCCOCCOCCOC)C=C1)C            -4.712198   \n",
      "554                                      C(OCCOCCOCCOC)C            -4.737549   \n",
      "101                                 COC(=O)CCCCC(=O)OCCC            -4.815309   \n",
      "546            CC(C(=O)OCCOCCOCCOCCOCCOCCOCCOCCOCCOC)(C)            -4.917215   \n",
      "109                                          COC(=O)CCCC            -5.112946   \n",
      "221                                               CN(C)C            -5.290730   \n",
      "130                            COC(=O)CCCC(=O)OC(COCC=C)            -5.371611   \n",
      "551                                  C(C(=O)OCCOCCOCCOC)            -5.374688   \n",
      "50                                        CC(C)(C(=O)OC)            -5.563837   \n",
      "154                        C1C(N(C(=O)C)C(=O)N1(C(=O)C))            -5.747147   \n",
      "113                                 COC(=O)CCCC(=O)OC(C)            -5.749580   \n",
      "51                                        CC(C(=O)OCCCC)            -5.761954   \n",
      "467                                                  COC            -5.779892   \n",
      "87                                       COC(=O)CC(=O)OC            -5.950782   \n",
      "36                                             COC(=O)OC            -6.010105   \n",
      "259                        [Si](C)(CCSCCCCCCCN1C=NC=C1)O            -6.166853   \n",
      "139                            COC(=O)COCC(=O)OC(COCC=C)            -6.289037   \n",
      "174                                           CN(CCC#N)C            -6.295849   \n",
      "550                                     C(C(=O)OCCOCCOC)            -6.519993   \n",
      "166                                             CC(C)C#N            -6.754487   \n",
      "196                                                  CNC            -7.412289   \n",
      "235                      C(COCCCSCCCC(=O)NCCN1C=NC=C1)OC            -7.449772   \n",
      "184                                     CC(C)(C(=O)OCCO)            -7.879426   \n",
      "244                    [Si](C)(CCSCCCC(=O)NCCN1C=NC=C1)O            -8.025028   \n",
      "151                               COC(=O)CCCCCCCCC(=O)OC            -8.716699   \n",
      "121                                 COC(=O)COCC(=O)OC(C)            -8.782516   \n",
      "238                          CC(CCSCCCC(=O)NCCN1C=NC=C1)            -9.935542   \n",
      "37                                     COC(=O)OC(COCCCC)                  NaN   \n",
      "232          C(C1=CC=C(NC(=O)CC2=C(OC)C=CC=C2(OC))C=C1)C                  NaN   \n",
      "565                                  C(=O)N(CCOCCOCCOC)C                  NaN   \n",
      "564                                     C(=O)N(CCOCCOC)C                  NaN   \n",
      "185                                        CC(C(=O)OCCO)                  NaN   \n",
      "143                           C1C(OC(=O)O1)C2C(OC(=O)O2)                  NaN   \n",
      "165                                              CC(C#N)                  NaN   \n",
      "563                                        C(=O)N(CCOC)C                  NaN   \n",
      "150                                     COC(=O)CCC(=O)OC                  NaN   \n",
      "\n",
      "       Conductivity at 60C      Y  \n",
      "Index                              \n",
      "227              -2.475793   True  \n",
      "69               -3.269218   True  \n",
      "590              -3.239798   True  \n",
      "58               -3.686133   True  \n",
      "558              -3.414375   True  \n",
      "556              -3.618306   True  \n",
      "559              -3.681736   True  \n",
      "537              -3.718439   True  \n",
      "547              -3.786573   True  \n",
      "541              -3.778505   True  \n",
      "555              -3.666754   True  \n",
      "105              -3.502306   True  \n",
      "540              -3.867587   True  \n",
      "552              -3.719121   True  \n",
      "94               -3.560202   True  \n",
      "553              -3.819510   True  \n",
      "557              -4.076756   True  \n",
      "554              -3.876024   True  \n",
      "101              -3.696545   True  \n",
      "546              -4.187755   True  \n",
      "109              -3.926513   True  \n",
      "221              -4.377786   True  \n",
      "130              -4.507240   True  \n",
      "551              -4.421361   True  \n",
      "50               -4.492144   True  \n",
      "154              -4.590067   True  \n",
      "113              -4.628932   True  \n",
      "51               -4.596879   True  \n",
      "467              -4.769551   True  \n",
      "87               -4.632644   True  \n",
      "36               -4.958607   True  \n",
      "259              -5.185752   True  \n",
      "139              -4.600326   True  \n",
      "174              -4.829738   True  \n",
      "550              -5.497573  False  \n",
      "166              -5.182435   True  \n",
      "196              -6.003926  False  \n",
      "235              -5.899629  False  \n",
      "184              -7.443697  False  \n",
      "244              -6.182435  False  \n",
      "151              -7.384050  False  \n",
      "121              -5.950782  False  \n",
      "238              -7.385103  False  \n",
      "37               -4.038579  False  \n",
      "232              -4.267606  False  \n",
      "565              -4.531653  False  \n",
      "564              -4.821023  False  \n",
      "185              -5.688246  False  \n",
      "143              -5.856985  False  \n",
      "165              -5.958607  False  \n",
      "563              -6.575118  False  \n",
      "150              -7.692504  False  \n"
     ]
    }
   ],
   "source": [
    "print(db)"
   ]
  },
  {
   "cell_type": "code",
   "execution_count": 792,
   "id": "4a6d7e1f",
   "metadata": {},
   "outputs": [
    {
     "name": "stdout",
     "output_type": "stream",
     "text": [
      "<class 'pandas.core.frame.DataFrame'>\n",
      "Int64Index: 52 entries, 227 to 150\n",
      "Data columns (total 5 columns):\n",
      " #   Column               Non-Null Count  Dtype  \n",
      "---  ------               --------------  -----  \n",
      " 0   Polymer              52 non-null     object \n",
      " 1   SMILES descriptor 1  52 non-null     object \n",
      " 2   Conductivity at 30C  43 non-null     float64\n",
      " 3   Conductivity at 60C  52 non-null     float64\n",
      " 4   Y                    52 non-null     bool   \n",
      "dtypes: bool(1), float64(2), object(2)\n",
      "memory usage: 2.1+ KB\n"
     ]
    }
   ],
   "source": [
    "db.info()"
   ]
  },
  {
   "cell_type": "code",
   "execution_count": 43,
   "id": "e061d662",
   "metadata": {},
   "outputs": [],
   "source": [
    "db['Y'] = db['Y'].map({True: 1, False: 0})"
   ]
  },
  {
   "cell_type": "code",
   "execution_count": 44,
   "id": "3156c632",
   "metadata": {},
   "outputs": [
    {
     "name": "stdout",
     "output_type": "stream",
     "text": [
      "                                     SMILES descriptor 1  Y\n",
      "Index                                                      \n",
      "227    C1(=C(C)C(C)=CC(C)=C1(C))COCP(=S)(CC1=CC=CC=C1...  1\n",
      "69                 C[Si](CCC1COC(=O)O1)(CCC2COC(=O)O2)CC  1\n",
      "590                              P(OCCOCCOC)(OCCOCCOC)=N  1\n",
      "58                             C[Si](C)(CCC1COC(=O)O1)CC  1\n",
      "558                              C(COCCOCCOCCOCCOCCOC)OC  1\n",
      "556                                C(OCCOCCOCCOCCOCCOC)C  1\n",
      "559                        COCCOCCOCCOCCOCCOCCOCCOCCOCOC  1\n",
      "537                                          C(COCC=C)OC  1\n",
      "547    CC(C(=O)OCCOCCOCCOCCOCCOCCOCCOCCOCCOCCOCCOCCOC...  1\n",
      "541                                C(COCCCSCCOCCOCCOC)OC  1\n",
      "555                                   C(OCCOCCOCCOCCOC)C  1\n",
      "105                               COC(=O)CCCCC(=O)OCCCCC  1\n",
      "540                                   C(COCCCSCCOCCOC)OC  1\n",
      "552                            C(C(=O)OCCOCCOCCOCCOCCOC)  1\n",
      "94                                    COC(=O)CCCCC(=O)OC  1\n",
      "553                         C(C(=O)OCCOCCOCCOCCOCCOCCOC)  1\n",
      "557                  C(C1=CC=C(COCCOCCOCCOCCOCCOC)C=C1)C  1\n",
      "554                                      C(OCCOCCOCCOC)C  1\n",
      "101                                 COC(=O)CCCCC(=O)OCCC  1\n",
      "546            CC(C(=O)OCCOCCOCCOCCOCCOCCOCCOCCOCCOC)(C)  1\n",
      "109                                          COC(=O)CCCC  1\n",
      "221                                               CN(C)C  1\n",
      "130                            COC(=O)CCCC(=O)OC(COCC=C)  1\n",
      "551                                  C(C(=O)OCCOCCOCCOC)  1\n",
      "50                                        CC(C)(C(=O)OC)  1\n",
      "154                        C1C(N(C(=O)C)C(=O)N1(C(=O)C))  1\n",
      "113                                 COC(=O)CCCC(=O)OC(C)  1\n",
      "51                                        CC(C(=O)OCCCC)  1\n",
      "467                                                  COC  1\n",
      "87                                       COC(=O)CC(=O)OC  1\n",
      "36                                             COC(=O)OC  1\n",
      "259                        [Si](C)(CCSCCCCCCCN1C=NC=C1)O  1\n",
      "139                            COC(=O)COCC(=O)OC(COCC=C)  1\n",
      "174                                           CN(CCC#N)C  1\n",
      "550                                     C(C(=O)OCCOCCOC)  0\n",
      "166                                             CC(C)C#N  1\n",
      "196                                                  CNC  0\n",
      "235                      C(COCCCSCCCC(=O)NCCN1C=NC=C1)OC  0\n",
      "184                                     CC(C)(C(=O)OCCO)  0\n",
      "244                    [Si](C)(CCSCCCC(=O)NCCN1C=NC=C1)O  0\n",
      "151                               COC(=O)CCCCCCCCC(=O)OC  0\n",
      "121                                 COC(=O)COCC(=O)OC(C)  0\n",
      "238                          CC(CCSCCCC(=O)NCCN1C=NC=C1)  0\n",
      "37                                     COC(=O)OC(COCCCC)  0\n",
      "232          C(C1=CC=C(NC(=O)CC2=C(OC)C=CC=C2(OC))C=C1)C  0\n",
      "565                                  C(=O)N(CCOCCOCCOC)C  0\n",
      "564                                     C(=O)N(CCOCCOC)C  0\n",
      "185                                        CC(C(=O)OCCO)  0\n",
      "143                           C1C(OC(=O)O1)C2C(OC(=O)O2)  0\n",
      "165                                              CC(C#N)  0\n",
      "563                                        C(=O)N(CCOC)C  0\n",
      "150                                     COC(=O)CCC(=O)OC  0\n"
     ]
    }
   ],
   "source": [
    "data = db[['SMILES descriptor 1', 'Y']]\n",
    "print(data)"
   ]
  },
  {
   "cell_type": "code",
   "execution_count": 45,
   "id": "e66da227",
   "metadata": {},
   "outputs": [
    {
     "data": {
      "text/html": [
       "<div>\n",
       "<style scoped>\n",
       "    .dataframe tbody tr th:only-of-type {\n",
       "        vertical-align: middle;\n",
       "    }\n",
       "\n",
       "    .dataframe tbody tr th {\n",
       "        vertical-align: top;\n",
       "    }\n",
       "\n",
       "    .dataframe thead th {\n",
       "        text-align: right;\n",
       "    }\n",
       "</style>\n",
       "<table border=\"1\" class=\"dataframe\">\n",
       "  <thead>\n",
       "    <tr style=\"text-align: right;\">\n",
       "      <th></th>\n",
       "      <th>SMILES descriptor 1</th>\n",
       "      <th>Y</th>\n",
       "    </tr>\n",
       "    <tr>\n",
       "      <th>Index</th>\n",
       "      <th></th>\n",
       "      <th></th>\n",
       "    </tr>\n",
       "  </thead>\n",
       "  <tbody>\n",
       "    <tr>\n",
       "      <th>58</th>\n",
       "      <td>C[Si](C)(CCC1COC(=O)O1)CC</td>\n",
       "      <td>1</td>\n",
       "    </tr>\n",
       "    <tr>\n",
       "      <th>559</th>\n",
       "      <td>COCCOCCOCCOCCOCCOCCOCCOCCOCOC</td>\n",
       "      <td>1</td>\n",
       "    </tr>\n",
       "    <tr>\n",
       "      <th>87</th>\n",
       "      <td>COC(=O)CC(=O)OC</td>\n",
       "      <td>1</td>\n",
       "    </tr>\n",
       "    <tr>\n",
       "      <th>185</th>\n",
       "      <td>CC(C(=O)OCCO)</td>\n",
       "      <td>0</td>\n",
       "    </tr>\n",
       "    <tr>\n",
       "      <th>51</th>\n",
       "      <td>CC(C(=O)OCCCC)</td>\n",
       "      <td>1</td>\n",
       "    </tr>\n",
       "    <tr>\n",
       "      <th>101</th>\n",
       "      <td>COC(=O)CCCCC(=O)OCCC</td>\n",
       "      <td>1</td>\n",
       "    </tr>\n",
       "    <tr>\n",
       "      <th>541</th>\n",
       "      <td>C(COCCCSCCOCCOCCOC)OC</td>\n",
       "      <td>1</td>\n",
       "    </tr>\n",
       "    <tr>\n",
       "      <th>244</th>\n",
       "      <td>[Si](C)(CCSCCCC(=O)NCCN1C=NC=C1)O</td>\n",
       "      <td>0</td>\n",
       "    </tr>\n",
       "    <tr>\n",
       "      <th>154</th>\n",
       "      <td>C1C(N(C(=O)C)C(=O)N1(C(=O)C))</td>\n",
       "      <td>1</td>\n",
       "    </tr>\n",
       "    <tr>\n",
       "      <th>259</th>\n",
       "      <td>[Si](C)(CCSCCCCCCCN1C=NC=C1)O</td>\n",
       "      <td>1</td>\n",
       "    </tr>\n",
       "    <tr>\n",
       "      <th>551</th>\n",
       "      <td>C(C(=O)OCCOCCOCCOC)</td>\n",
       "      <td>1</td>\n",
       "    </tr>\n",
       "    <tr>\n",
       "      <th>69</th>\n",
       "      <td>C[Si](CCC1COC(=O)O1)(CCC2COC(=O)O2)CC</td>\n",
       "      <td>1</td>\n",
       "    </tr>\n",
       "    <tr>\n",
       "      <th>550</th>\n",
       "      <td>C(C(=O)OCCOCCOC)</td>\n",
       "      <td>0</td>\n",
       "    </tr>\n",
       "    <tr>\n",
       "      <th>555</th>\n",
       "      <td>C(OCCOCCOCCOCCOC)C</td>\n",
       "      <td>1</td>\n",
       "    </tr>\n",
       "    <tr>\n",
       "      <th>150</th>\n",
       "      <td>COC(=O)CCC(=O)OC</td>\n",
       "      <td>0</td>\n",
       "    </tr>\n",
       "    <tr>\n",
       "      <th>221</th>\n",
       "      <td>CN(C)C</td>\n",
       "      <td>1</td>\n",
       "    </tr>\n",
       "    <tr>\n",
       "      <th>121</th>\n",
       "      <td>COC(=O)COCC(=O)OC(C)</td>\n",
       "      <td>0</td>\n",
       "    </tr>\n",
       "    <tr>\n",
       "      <th>556</th>\n",
       "      <td>C(OCCOCCOCCOCCOCCOC)C</td>\n",
       "      <td>1</td>\n",
       "    </tr>\n",
       "    <tr>\n",
       "      <th>227</th>\n",
       "      <td>C1(=C(C)C(C)=CC(C)=C1(C))COCP(=S)(CC1=CC=CC=C1...</td>\n",
       "      <td>1</td>\n",
       "    </tr>\n",
       "    <tr>\n",
       "      <th>547</th>\n",
       "      <td>CC(C(=O)OCCOCCOCCOCCOCCOCCOCCOCCOCCOCCOCCOCCOC...</td>\n",
       "      <td>1</td>\n",
       "    </tr>\n",
       "    <tr>\n",
       "      <th>37</th>\n",
       "      <td>COC(=O)OC(COCCCC)</td>\n",
       "      <td>0</td>\n",
       "    </tr>\n",
       "    <tr>\n",
       "      <th>50</th>\n",
       "      <td>CC(C)(C(=O)OC)</td>\n",
       "      <td>1</td>\n",
       "    </tr>\n",
       "    <tr>\n",
       "      <th>238</th>\n",
       "      <td>CC(CCSCCCC(=O)NCCN1C=NC=C1)</td>\n",
       "      <td>0</td>\n",
       "    </tr>\n",
       "    <tr>\n",
       "      <th>232</th>\n",
       "      <td>C(C1=CC=C(NC(=O)CC2=C(OC)C=CC=C2(OC))C=C1)C</td>\n",
       "      <td>0</td>\n",
       "    </tr>\n",
       "    <tr>\n",
       "      <th>94</th>\n",
       "      <td>COC(=O)CCCCC(=O)OC</td>\n",
       "      <td>1</td>\n",
       "    </tr>\n",
       "    <tr>\n",
       "      <th>151</th>\n",
       "      <td>COC(=O)CCCCCCCCC(=O)OC</td>\n",
       "      <td>0</td>\n",
       "    </tr>\n",
       "    <tr>\n",
       "      <th>590</th>\n",
       "      <td>P(OCCOCCOC)(OCCOCCOC)=N</td>\n",
       "      <td>1</td>\n",
       "    </tr>\n",
       "    <tr>\n",
       "      <th>467</th>\n",
       "      <td>COC</td>\n",
       "      <td>1</td>\n",
       "    </tr>\n",
       "    <tr>\n",
       "      <th>109</th>\n",
       "      <td>COC(=O)CCCC</td>\n",
       "      <td>1</td>\n",
       "    </tr>\n",
       "    <tr>\n",
       "      <th>139</th>\n",
       "      <td>COC(=O)COCC(=O)OC(COCC=C)</td>\n",
       "      <td>1</td>\n",
       "    </tr>\n",
       "    <tr>\n",
       "      <th>554</th>\n",
       "      <td>C(OCCOCCOCCOC)C</td>\n",
       "      <td>1</td>\n",
       "    </tr>\n",
       "    <tr>\n",
       "      <th>565</th>\n",
       "      <td>C(=O)N(CCOCCOCCOC)C</td>\n",
       "      <td>0</td>\n",
       "    </tr>\n",
       "    <tr>\n",
       "      <th>184</th>\n",
       "      <td>CC(C)(C(=O)OCCO)</td>\n",
       "      <td>0</td>\n",
       "    </tr>\n",
       "    <tr>\n",
       "      <th>558</th>\n",
       "      <td>C(COCCOCCOCCOCCOCCOC)OC</td>\n",
       "      <td>1</td>\n",
       "    </tr>\n",
       "    <tr>\n",
       "      <th>540</th>\n",
       "      <td>C(COCCCSCCOCCOC)OC</td>\n",
       "      <td>1</td>\n",
       "    </tr>\n",
       "    <tr>\n",
       "      <th>143</th>\n",
       "      <td>C1C(OC(=O)O1)C2C(OC(=O)O2)</td>\n",
       "      <td>0</td>\n",
       "    </tr>\n",
       "    <tr>\n",
       "      <th>557</th>\n",
       "      <td>C(C1=CC=C(COCCOCCOCCOCCOCCOC)C=C1)C</td>\n",
       "      <td>1</td>\n",
       "    </tr>\n",
       "    <tr>\n",
       "      <th>235</th>\n",
       "      <td>C(COCCCSCCCC(=O)NCCN1C=NC=C1)OC</td>\n",
       "      <td>0</td>\n",
       "    </tr>\n",
       "    <tr>\n",
       "      <th>174</th>\n",
       "      <td>CN(CCC#N)C</td>\n",
       "      <td>1</td>\n",
       "    </tr>\n",
       "    <tr>\n",
       "      <th>537</th>\n",
       "      <td>C(COCC=C)OC</td>\n",
       "      <td>1</td>\n",
       "    </tr>\n",
       "    <tr>\n",
       "      <th>196</th>\n",
       "      <td>CNC</td>\n",
       "      <td>0</td>\n",
       "    </tr>\n",
       "    <tr>\n",
       "      <th>553</th>\n",
       "      <td>C(C(=O)OCCOCCOCCOCCOCCOCCOC)</td>\n",
       "      <td>1</td>\n",
       "    </tr>\n",
       "    <tr>\n",
       "      <th>165</th>\n",
       "      <td>CC(C#N)</td>\n",
       "      <td>0</td>\n",
       "    </tr>\n",
       "    <tr>\n",
       "      <th>564</th>\n",
       "      <td>C(=O)N(CCOCCOC)C</td>\n",
       "      <td>0</td>\n",
       "    </tr>\n",
       "    <tr>\n",
       "      <th>563</th>\n",
       "      <td>C(=O)N(CCOC)C</td>\n",
       "      <td>0</td>\n",
       "    </tr>\n",
       "    <tr>\n",
       "      <th>552</th>\n",
       "      <td>C(C(=O)OCCOCCOCCOCCOCCOC)</td>\n",
       "      <td>1</td>\n",
       "    </tr>\n",
       "    <tr>\n",
       "      <th>546</th>\n",
       "      <td>CC(C(=O)OCCOCCOCCOCCOCCOCCOCCOCCOCCOC)(C)</td>\n",
       "      <td>1</td>\n",
       "    </tr>\n",
       "    <tr>\n",
       "      <th>105</th>\n",
       "      <td>COC(=O)CCCCC(=O)OCCCCC</td>\n",
       "      <td>1</td>\n",
       "    </tr>\n",
       "    <tr>\n",
       "      <th>166</th>\n",
       "      <td>CC(C)C#N</td>\n",
       "      <td>1</td>\n",
       "    </tr>\n",
       "    <tr>\n",
       "      <th>130</th>\n",
       "      <td>COC(=O)CCCC(=O)OC(COCC=C)</td>\n",
       "      <td>1</td>\n",
       "    </tr>\n",
       "    <tr>\n",
       "      <th>36</th>\n",
       "      <td>COC(=O)OC</td>\n",
       "      <td>1</td>\n",
       "    </tr>\n",
       "    <tr>\n",
       "      <th>113</th>\n",
       "      <td>COC(=O)CCCC(=O)OC(C)</td>\n",
       "      <td>1</td>\n",
       "    </tr>\n",
       "  </tbody>\n",
       "</table>\n",
       "</div>"
      ],
      "text/plain": [
       "                                     SMILES descriptor 1  Y\n",
       "Index                                                      \n",
       "58                             C[Si](C)(CCC1COC(=O)O1)CC  1\n",
       "559                        COCCOCCOCCOCCOCCOCCOCCOCCOCOC  1\n",
       "87                                       COC(=O)CC(=O)OC  1\n",
       "185                                        CC(C(=O)OCCO)  0\n",
       "51                                        CC(C(=O)OCCCC)  1\n",
       "101                                 COC(=O)CCCCC(=O)OCCC  1\n",
       "541                                C(COCCCSCCOCCOCCOC)OC  1\n",
       "244                    [Si](C)(CCSCCCC(=O)NCCN1C=NC=C1)O  0\n",
       "154                        C1C(N(C(=O)C)C(=O)N1(C(=O)C))  1\n",
       "259                        [Si](C)(CCSCCCCCCCN1C=NC=C1)O  1\n",
       "551                                  C(C(=O)OCCOCCOCCOC)  1\n",
       "69                 C[Si](CCC1COC(=O)O1)(CCC2COC(=O)O2)CC  1\n",
       "550                                     C(C(=O)OCCOCCOC)  0\n",
       "555                                   C(OCCOCCOCCOCCOC)C  1\n",
       "150                                     COC(=O)CCC(=O)OC  0\n",
       "221                                               CN(C)C  1\n",
       "121                                 COC(=O)COCC(=O)OC(C)  0\n",
       "556                                C(OCCOCCOCCOCCOCCOC)C  1\n",
       "227    C1(=C(C)C(C)=CC(C)=C1(C))COCP(=S)(CC1=CC=CC=C1...  1\n",
       "547    CC(C(=O)OCCOCCOCCOCCOCCOCCOCCOCCOCCOCCOCCOCCOC...  1\n",
       "37                                     COC(=O)OC(COCCCC)  0\n",
       "50                                        CC(C)(C(=O)OC)  1\n",
       "238                          CC(CCSCCCC(=O)NCCN1C=NC=C1)  0\n",
       "232          C(C1=CC=C(NC(=O)CC2=C(OC)C=CC=C2(OC))C=C1)C  0\n",
       "94                                    COC(=O)CCCCC(=O)OC  1\n",
       "151                               COC(=O)CCCCCCCCC(=O)OC  0\n",
       "590                              P(OCCOCCOC)(OCCOCCOC)=N  1\n",
       "467                                                  COC  1\n",
       "109                                          COC(=O)CCCC  1\n",
       "139                            COC(=O)COCC(=O)OC(COCC=C)  1\n",
       "554                                      C(OCCOCCOCCOC)C  1\n",
       "565                                  C(=O)N(CCOCCOCCOC)C  0\n",
       "184                                     CC(C)(C(=O)OCCO)  0\n",
       "558                              C(COCCOCCOCCOCCOCCOC)OC  1\n",
       "540                                   C(COCCCSCCOCCOC)OC  1\n",
       "143                           C1C(OC(=O)O1)C2C(OC(=O)O2)  0\n",
       "557                  C(C1=CC=C(COCCOCCOCCOCCOCCOC)C=C1)C  1\n",
       "235                      C(COCCCSCCCC(=O)NCCN1C=NC=C1)OC  0\n",
       "174                                           CN(CCC#N)C  1\n",
       "537                                          C(COCC=C)OC  1\n",
       "196                                                  CNC  0\n",
       "553                         C(C(=O)OCCOCCOCCOCCOCCOCCOC)  1\n",
       "165                                              CC(C#N)  0\n",
       "564                                     C(=O)N(CCOCCOC)C  0\n",
       "563                                        C(=O)N(CCOC)C  0\n",
       "552                            C(C(=O)OCCOCCOCCOCCOCCOC)  1\n",
       "546            CC(C(=O)OCCOCCOCCOCCOCCOCCOCCOCCOCCOC)(C)  1\n",
       "105                               COC(=O)CCCCC(=O)OCCCCC  1\n",
       "166                                             CC(C)C#N  1\n",
       "130                            COC(=O)CCCC(=O)OC(COCC=C)  1\n",
       "36                                             COC(=O)OC  1\n",
       "113                                 COC(=O)CCCC(=O)OC(C)  1"
      ]
     },
     "execution_count": 45,
     "metadata": {},
     "output_type": "execute_result"
    }
   ],
   "source": [
    "data.sample(frac=1)"
   ]
  },
  {
   "cell_type": "code",
   "execution_count": 46,
   "id": "f1dddecc",
   "metadata": {},
   "outputs": [],
   "source": [
    "data.to_csv(\"ml_ready.csv\", index=False)"
   ]
  },
  {
   "cell_type": "code",
   "execution_count": 47,
   "id": "e9b4b997",
   "metadata": {},
   "outputs": [],
   "source": [
    "data = pd.read_csv(\"ml_ready.csv\")"
   ]
  },
  {
   "cell_type": "code",
   "execution_count": 48,
   "id": "64334091",
   "metadata": {},
   "outputs": [
    {
     "data": {
      "text/plain": [
       "(52, 2)"
      ]
     },
     "execution_count": 48,
     "metadata": {},
     "output_type": "execute_result"
    }
   ],
   "source": [
    "np.shape(data)"
   ]
  },
  {
   "cell_type": "code",
   "execution_count": 49,
   "id": "fbcb88f1",
   "metadata": {},
   "outputs": [],
   "source": [
    "data = data.sample(frac=1, random_state=40)"
   ]
  },
  {
   "cell_type": "code",
   "execution_count": 50,
   "id": "770b76b5",
   "metadata": {},
   "outputs": [],
   "source": [
    "training_set = data.iloc[0:39]"
   ]
  },
  {
   "cell_type": "code",
   "execution_count": 51,
   "id": "f7e38e25",
   "metadata": {},
   "outputs": [
    {
     "data": {
      "text/plain": [
       "1    0.666667\n",
       "0    0.333333\n",
       "Name: Y, dtype: float64"
      ]
     },
     "execution_count": 51,
     "metadata": {},
     "output_type": "execute_result"
    }
   ],
   "source": [
    "training_set['Y'].value_counts(normalize=True)"
   ]
  },
  {
   "cell_type": "code",
   "execution_count": 52,
   "id": "689df58a",
   "metadata": {},
   "outputs": [],
   "source": [
    "testing_set = data[39:]"
   ]
  },
  {
   "cell_type": "code",
   "execution_count": 53,
   "id": "b073959d",
   "metadata": {},
   "outputs": [
    {
     "data": {
      "text/plain": [
       "1    0.692308\n",
       "0    0.307692\n",
       "Name: Y, dtype: float64"
      ]
     },
     "execution_count": 53,
     "metadata": {},
     "output_type": "execute_result"
    }
   ],
   "source": [
    "testing_set['Y'].value_counts(normalize=True)"
   ]
  },
  {
   "cell_type": "code",
   "execution_count": 54,
   "id": "a5c8bc6b",
   "metadata": {},
   "outputs": [],
   "source": [
    "training_set.to_csv(\"training_set.csv\", index=False)"
   ]
  },
  {
   "cell_type": "code",
   "execution_count": 55,
   "id": "a3f046ec",
   "metadata": {},
   "outputs": [],
   "source": [
    "testing_set.to_csv(\"testing_set.csv\", index=True)"
   ]
  }
 ],
 "metadata": {
  "kernelspec": {
   "display_name": "Python 3 (ipykernel)",
   "language": "python",
   "name": "python3"
  },
  "language_info": {
   "codemirror_mode": {
    "name": "ipython",
    "version": 3
   },
   "file_extension": ".py",
   "mimetype": "text/x-python",
   "name": "python",
   "nbconvert_exporter": "python",
   "pygments_lexer": "ipython3",
   "version": "3.9.12"
  }
 },
 "nbformat": 4,
 "nbformat_minor": 5
}
