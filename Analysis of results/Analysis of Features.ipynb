{
 "cells": [
  {
   "cell_type": "code",
   "execution_count": 1,
   "id": "8640b6e8",
   "metadata": {},
   "outputs": [],
   "source": [
    "import pandas as pd"
   ]
  },
  {
   "cell_type": "code",
   "execution_count": 2,
   "id": "0b1fc9b1",
   "metadata": {},
   "outputs": [],
   "source": [
    "df = pd.read_csv(\"relevant features.csv\")"
   ]
  },
  {
   "cell_type": "code",
   "execution_count": 3,
   "id": "57085c6b",
   "metadata": {},
   "outputs": [
    {
     "name": "stdout",
     "output_type": "stream",
     "text": [
      "<class 'pandas.core.frame.DataFrame'>\n",
      "RangeIndex: 512 entries, 0 to 511\n",
      "Data columns (total 4 columns):\n",
      " #   Column      Non-Null Count  Dtype\n",
      "---  ------      --------------  -----\n",
      " 0   Unnamed: 0  512 non-null    int64\n",
      " 1   feature     512 non-null    int64\n",
      " 2   support     512 non-null    bool \n",
      " 3   ranking     512 non-null    int64\n",
      "dtypes: bool(1), int64(3)\n",
      "memory usage: 12.6 KB\n"
     ]
    }
   ],
   "source": [
    "df.info()"
   ]
  },
  {
   "cell_type": "markdown",
   "id": "e9adcba6",
   "metadata": {},
   "source": [
    "# Percentage of features considered important"
   ]
  },
  {
   "cell_type": "code",
   "execution_count": 4,
   "id": "d14a72d0",
   "metadata": {},
   "outputs": [
    {
     "data": {
      "text/plain": [
       "False    0.570312\n",
       "True     0.429688\n",
       "Name: support, dtype: float64"
      ]
     },
     "execution_count": 4,
     "metadata": {},
     "output_type": "execute_result"
    }
   ],
   "source": [
    "df['support'].value_counts(True)"
   ]
  },
  {
   "cell_type": "markdown",
   "id": "a0403634",
   "metadata": {},
   "source": [
    "# Number of important features"
   ]
  },
  {
   "cell_type": "code",
   "execution_count": 7,
   "id": "3bd9e9fc",
   "metadata": {},
   "outputs": [
    {
     "data": {
      "text/plain": [
       "220"
      ]
     },
     "execution_count": 7,
     "metadata": {},
     "output_type": "execute_result"
    }
   ],
   "source": [
    "len(df[df['support'] == True])"
   ]
  },
  {
   "cell_type": "markdown",
   "id": "60c21140",
   "metadata": {},
   "source": [
    "# The indices of the important features"
   ]
  },
  {
   "cell_type": "code",
   "execution_count": 29,
   "id": "d21fee64",
   "metadata": {},
   "outputs": [
    {
     "name": "stdout",
     "output_type": "stream",
     "text": [
      "Int64Index([162, 419, 418, 417, 416, 415, 413, 412, 410, 409,\n",
      "            ...\n",
      "            103, 104, 105, 133, 130, 123, 106, 107, 131, 132],\n",
      "           dtype='int64', length=220)\n"
     ]
    }
   ],
   "source": [
    "relevant_features_only = df.sort_values('ranking')[:220][['feature', 'support']]\n",
    "print(relevant_features_only.index)"
   ]
  },
  {
   "cell_type": "code",
   "execution_count": null,
   "id": "b0681d04",
   "metadata": {},
   "outputs": [],
   "source": []
  }
 ],
 "metadata": {
  "kernelspec": {
   "display_name": "Python 3 (ipykernel)",
   "language": "python",
   "name": "python3"
  },
  "language_info": {
   "codemirror_mode": {
    "name": "ipython",
    "version": 3
   },
   "file_extension": ".py",
   "mimetype": "text/x-python",
   "name": "python",
   "nbconvert_exporter": "python",
   "pygments_lexer": "ipython3",
   "version": "3.9.12"
  }
 },
 "nbformat": 4,
 "nbformat_minor": 5
}
