{
 "cells": [
  {
   "cell_type": "code",
   "execution_count": 1,
   "id": "bfe511c2",
   "metadata": {},
   "outputs": [],
   "source": [
    "import numpy as np\n",
    "import pandas as pd\n",
    "rng = np.random.default_rng(40)"
   ]
  },
  {
   "cell_type": "code",
   "execution_count": 17,
   "id": "4cd5df83",
   "metadata": {},
   "outputs": [],
   "source": [
    "contents = pd.read_csv(\"recommendations.csv\", index_col='Unnamed: 0')"
   ]
  },
  {
   "cell_type": "code",
   "execution_count": 19,
   "id": "dbb171f6",
   "metadata": {},
   "outputs": [],
   "source": [
    "SMILES = contents[\"SMILES\"]"
   ]
  },
  {
   "cell_type": "code",
   "execution_count": 18,
   "id": "0596e7f3",
   "metadata": {},
   "outputs": [
    {
     "name": "stdout",
     "output_type": "stream",
     "text": [
      "<class 'pandas.core.frame.DataFrame'>\n",
      "Int64Index: 824 entries, 1344 to 995626\n",
      "Data columns (total 1 columns):\n",
      " #   Column  Non-Null Count  Dtype \n",
      "---  ------  --------------  ----- \n",
      " 0   SMILES  824 non-null    object\n",
      "dtypes: object(1)\n",
      "memory usage: 12.9+ KB\n"
     ]
    }
   ],
   "source": [
    "contents.info()"
   ]
  },
  {
   "cell_type": "code",
   "execution_count": 21,
   "id": "c4c0e57b",
   "metadata": {
    "collapsed": true
   },
   "outputs": [
    {
     "data": {
      "text/html": [
       "<div>\n",
       "<style scoped>\n",
       "    .dataframe tbody tr th:only-of-type {\n",
       "        vertical-align: middle;\n",
       "    }\n",
       "\n",
       "    .dataframe tbody tr th {\n",
       "        vertical-align: top;\n",
       "    }\n",
       "\n",
       "    .dataframe thead th {\n",
       "        text-align: right;\n",
       "    }\n",
       "</style>\n",
       "<table border=\"1\" class=\"dataframe\">\n",
       "  <thead>\n",
       "    <tr style=\"text-align: right;\">\n",
       "      <th></th>\n",
       "      <th>SMILES</th>\n",
       "    </tr>\n",
       "  </thead>\n",
       "  <tbody>\n",
       "    <tr>\n",
       "      <th>1344</th>\n",
       "      <td>*N=P(*)(OCCOC)OCCOCCOCCOC</td>\n",
       "    </tr>\n",
       "    <tr>\n",
       "      <th>1998</th>\n",
       "      <td>*N=P(*)(OCCOCCOC)OCCOCCOCCOCCOCCOC</td>\n",
       "    </tr>\n",
       "    <tr>\n",
       "      <th>2334</th>\n",
       "      <td>*N=P(*)(OCCOCCOCCOCCOCCOCCOC)OCCOCCOCCOCCOCCOC...</td>\n",
       "    </tr>\n",
       "    <tr>\n",
       "      <th>4400</th>\n",
       "      <td>*N=P(*)(OCCOCCOC)OCCOCCOCCOCCOCCOCCOC</td>\n",
       "    </tr>\n",
       "    <tr>\n",
       "      <th>4609</th>\n",
       "      <td>*N=P(*)(OCCOCCOC)OCCOCCOCCCCOC</td>\n",
       "    </tr>\n",
       "    <tr>\n",
       "      <th>...</th>\n",
       "      <td>...</td>\n",
       "    </tr>\n",
       "    <tr>\n",
       "      <th>991447</th>\n",
       "      <td>*N=P(*)(OCCOCCOC)OCCOCCOCCOCCOCCCC</td>\n",
       "    </tr>\n",
       "    <tr>\n",
       "      <th>992569</th>\n",
       "      <td>*CC(*)c1ccc(COCCOCCOC)c(CCCC)c1</td>\n",
       "    </tr>\n",
       "    <tr>\n",
       "      <th>993209</th>\n",
       "      <td>*N=P(*)(OCCOCCOCCOCCOC)OCC(COCCOC)OCC</td>\n",
       "    </tr>\n",
       "    <tr>\n",
       "      <th>995589</th>\n",
       "      <td>*N=P(*)(CCOCCOCCOC)OCCCCCCCCCCCCCCCCOc1ccc(-c2...</td>\n",
       "    </tr>\n",
       "    <tr>\n",
       "      <th>995626</th>\n",
       "      <td>*/C=C(/*)CCCc1ccc(OCCOCCOCCOC)s1</td>\n",
       "    </tr>\n",
       "  </tbody>\n",
       "</table>\n",
       "<p>824 rows × 1 columns</p>\n",
       "</div>"
      ],
      "text/plain": [
       "                                                   SMILES\n",
       "1344                            *N=P(*)(OCCOC)OCCOCCOCCOC\n",
       "1998                   *N=P(*)(OCCOCCOC)OCCOCCOCCOCCOCCOC\n",
       "2334    *N=P(*)(OCCOCCOCCOCCOCCOCCOC)OCCOCCOCCOCCOCCOC...\n",
       "4400                *N=P(*)(OCCOCCOC)OCCOCCOCCOCCOCCOCCOC\n",
       "4609                       *N=P(*)(OCCOCCOC)OCCOCCOCCCCOC\n",
       "...                                                   ...\n",
       "991447                 *N=P(*)(OCCOCCOC)OCCOCCOCCOCCOCCCC\n",
       "992569                    *CC(*)c1ccc(COCCOCCOC)c(CCCC)c1\n",
       "993209              *N=P(*)(OCCOCCOCCOCCOC)OCC(COCCOC)OCC\n",
       "995589  *N=P(*)(CCOCCOCCOC)OCCCCCCCCCCCCCCCCOc1ccc(-c2...\n",
       "995626                   */C=C(/*)CCCc1ccc(OCCOCCOCCOC)s1\n",
       "\n",
       "[824 rows x 1 columns]"
      ]
     },
     "execution_count": 21,
     "metadata": {},
     "output_type": "execute_result"
    }
   ],
   "source": [
    "contents"
   ]
  },
  {
   "cell_type": "code",
   "execution_count": 23,
   "id": "39815b6c",
   "metadata": {},
   "outputs": [
    {
     "name": "stdout",
     "output_type": "stream",
     "text": [
      "609\n"
     ]
    }
   ],
   "source": [
    "phosphazene = [p for p in SMILES if \"N=P\" in p]\n",
    "print(len(phosphazene))"
   ]
  },
  {
   "cell_type": "code",
   "execution_count": 26,
   "id": "f11233df",
   "metadata": {},
   "outputs": [],
   "source": [
    "diff = set(SMILES).difference(set(phosphazene))  "
   ]
  },
  {
   "cell_type": "code",
   "execution_count": 27,
   "id": "91d44a74",
   "metadata": {},
   "outputs": [
    {
     "name": "stdout",
     "output_type": "stream",
     "text": [
      "215\n"
     ]
    }
   ],
   "source": [
    "diff = list(diff)\n",
    "print(len(diff))"
   ]
  },
  {
   "cell_type": "code",
   "execution_count": 40,
   "id": "97776ea1",
   "metadata": {},
   "outputs": [
    {
     "name": "stdout",
     "output_type": "stream",
     "text": [
      "63\n"
     ]
    }
   ],
   "source": [
    "siloxane = [p for p in diff if 'O[Si]' in p or '[Si]' in p]\n",
    "print(len(siloxane))"
   ]
  },
  {
   "cell_type": "code",
   "execution_count": 41,
   "id": "1eeb54a3",
   "metadata": {},
   "outputs": [],
   "source": [
    "remaining = set(diff).difference(set(siloxane))"
   ]
  },
  {
   "cell_type": "code",
   "execution_count": 42,
   "id": "8ed3e961",
   "metadata": {},
   "outputs": [
    {
     "name": "stdout",
     "output_type": "stream",
     "text": [
      "152\n"
     ]
    }
   ],
   "source": [
    "print(len(remaining))"
   ]
  },
  {
   "cell_type": "code",
   "execution_count": 46,
   "id": "a1d44e73",
   "metadata": {},
   "outputs": [
    {
     "name": "stdout",
     "output_type": "stream",
     "text": [
      "19\n"
     ]
    }
   ],
   "source": [
    "PH = [p for p in remaining if '[PH]' in p]\n",
    "print(len(PH))"
   ]
  },
  {
   "cell_type": "code",
   "execution_count": 66,
   "id": "73ce1354",
   "metadata": {},
   "outputs": [
    {
     "data": {
      "text/plain": [
       "['*[PH](*)(CCOCCOCCOCCOC)COCCOCCOCCOCC(F)(F)F',\n",
       " '*N=[PH](*)(OCCBr)OCCCCOCCOCCOCCOCCOC',\n",
       " '*N=[PH](*)(OCCOCCOCCOC)OCCOc1ccccc1C',\n",
       " '*N=[PH](*)(CCCC)OCCOCCOCCOCC',\n",
       " '*N=[PH](*)(CCCC)OCCCCCOCCOCCOCCOCCOCCOC',\n",
       " '*N=[PH](*)(CCCCCC)OCCOCCOCCOC',\n",
       " '*CC(O)CN[PH](*)(OCCCC)OCCOCCOCCOCCOCCOC',\n",
       " '*N=[PH](*)(OCCOC)OCCOCCOCCOCCOCCOC',\n",
       " '*N=[PH](*)(OCCC)OCCOCCOCCOC',\n",
       " '*N=[PH](*)(OCCCOc1ccc(/C=C\\\\c2ccccc2)cc1)OCCOCCOCCOCCOC',\n",
       " '*N[PH](*)(OCCOCCCC)OCCOCCOCCOC',\n",
       " '*CCCC[PH](*)(OCCCC)C(CCC)COCCOCCOC',\n",
       " '*N=[PH](*)(CCC)(OCC)OCCCOCCOC',\n",
       " '*[PH](*)(CCCCOCCOCCOCCOC)OCCCCC',\n",
       " '*N=[PH](*)(OCCOC)OCCC(CC)OCCOCCOC',\n",
       " '*N=[PH](*)(OCCCC)OCCNCCOCCOC',\n",
       " '*N=[PH](*)(CCOCCOCCOCOCCOC)OCCCCCCCCCCOCCOCCOC',\n",
       " '*N=[PH](*)(OCCCOC)OCCOCCOCCOCCOCCOCCOCCOCCOCCOCCOC',\n",
       " '*N=[PH](*)(CCCCOCCOCCOCCOCCOCCOCCOC)OCCOCCOCCCCCCCCCCCCOCCOCCOC']"
      ]
     },
     "execution_count": 66,
     "metadata": {},
     "output_type": "execute_result"
    }
   ],
   "source": [
    "PH"
   ]
  },
  {
   "cell_type": "code",
   "execution_count": 47,
   "id": "cf8056b2",
   "metadata": {},
   "outputs": [
    {
     "name": "stdout",
     "output_type": "stream",
     "text": [
      "133\n"
     ]
    }
   ],
   "source": [
    "the_rest = list(set(remaining).difference(set(PH)))\n",
    "print(len(the_rest))"
   ]
  },
  {
   "cell_type": "code",
   "execution_count": 48,
   "id": "2369ca13",
   "metadata": {
    "collapsed": true
   },
   "outputs": [
    {
     "data": {
      "text/plain": [
       "['*CCCCCC(=CC=CC=C=*)OCCOCCOCCOC',\n",
       " '*/C=C(/*)CSCCSCCCOCCOCCOCCOCCOCCOCCOCCOCCOCCOC',\n",
       " '*CCCCOc1cc(CCCCCCCCCCCCCCCCCCCCC)c(/C=N/c2ccc(O*)cc2)cc1OCCOCCOC',\n",
       " '*CC(*)c1ccc(COC(CC)OCCOCCOCCOCCOCCOC)cc1',\n",
       " '*C/C=C(/*)C(CC)(COCCOC)COCCOCCOCC',\n",
       " '*Nc1cc(OCCOCCOCCOC)c(CCC=*)cc1OCCCC',\n",
       " '*Oc1ccc(-c2ccc(C(C)(CCCCCCCCCCCCCCCC)CCOCCOCCOC)cc2)cc1*',\n",
       " '*CCOCCOCC(Oc1ccc(-c2ccc(/N=N/c3ccc(/N=N/c4ccc(O*)cc4)cc3)cc2)cc1)OC(CCCCCC)COCCOC',\n",
       " '*CC(COCCOC)(C(CCCC)=C(Cl)c1ccc(*)cn1)c1ccccc1',\n",
       " '*CCOCCOc1ccc(CCCCc2ccc(O*)c(OCCC)c2)cc1OC',\n",
       " '*CC(COCCOCCOC)OC(=O)CCCC(=O)O*',\n",
       " '*CCOCCOCC(COCCOCCOCCOC)C(CCCCC)OC(=O)c1ccc(Cc2ccc(C(=O)O*)cc2)cc1',\n",
       " '*C(*)c1ccc(OCCOCCOCCOCCOC)cc1',\n",
       " '*/C=C(/*)CSCCCOCCOCCOCCOCCOC',\n",
       " '*CC(CO*)(COCCCC)COCCOCCOCC(C)(C)C',\n",
       " '*Cc1ccc(COC(=O)CCCCC(=O)OCCOCCOCCOCCCCOC(=O)c2ccc(O*)cc2OCCOCCOC)cc1',\n",
       " '*CC(*)OCCCOCCOCCOCCOCCOC',\n",
       " '*CCCCCCCCCCCCCCOc1ccc(-c2cc(OCCCCC)c(O*)c(OCCOCCOC)c2)cc1OC',\n",
       " '*Oc1ccc(Oc2ccc(S(=O)(=O)c3ccc(Oc4ccc(C(C)(C)c5cccc(*)c5)cc4)cc3)cc2)c(OCCOCCOCCOC)c1',\n",
       " '*Oc1ccc(/N=C(\\\\C)c2ccc(OC(*)OCCOCCOC)cc2)cc1',\n",
       " '*CC(CC)(CCOCCOCCOCCOC)C(=O)O*',\n",
       " '*Oc1ccc(OC(=O)c2ccc(C(*)=O)cc2Oc2ccccc2)cc1OCCOCCOCCOCCOC',\n",
       " '*CCCCP(CCCCCCCCC)C(=*)CCCCCOCCCOCCOCCOC',\n",
       " '*OC(*)CCCOCCOCCOCCOCCOC',\n",
       " '*[Ge](*)(NCCNC(C)CCOCCOCCOC)OCCCC',\n",
       " '*OC(CCCCC)OC(=O)c1ccc(C(*)=O)cc1OCCOCCOCCOC',\n",
       " '*/C=N/c1cc(OCCOCCOCCOCCOCCOCCOC)c(*)nc1CCCC',\n",
       " '*CC(=O)C1CCC(C(=O)OCCC)[N+](*)(OC(=O)OCCOCCOC)O1',\n",
       " '*c1cc(OCCOCCOCCOCCOCCOCCOCCOCCOCCOC)c(*)cc1OCCCC',\n",
       " '*CC(COCCCC)C(CO*)COCCOCCOCCOCCOCCOC',\n",
       " '*CCCCCCCCCCCCCCOc1ccc(CCc2ccc(O*)c(OC)c2)cc1OCCCCCCCCCCOCCOCCOCCOC',\n",
       " '*/C=C/C(COCCOCCOC)(COCCOCCOCCOCCOCCOCCOCCOCCOCCOCCCC)C[Fe]*',\n",
       " '*Oc1ccc(-c2ccc(OC(=O)c3cc(OCCCCCCCCCC)c(C(*)=O)cc3SCC)c(OCCOCCOC)c2)cc1OC',\n",
       " '*CC(*)(C)C(=O)OCC(CCCC)COCCOCCOCCOCCOCCOCCOCCOCCOC',\n",
       " '*/C=C(/*)CCCOc1ccc(-c2ccc(OC(=O)OCCOCCOCCOCCOCCOCCOC)cc2)cc1',\n",
       " '*CCCCCCCCCCCCOc1ccc(-c2cc(OCCOCCOC)c(O*)cc2OCCCCCCCCCCCC)cc1',\n",
       " '*CC(COCCOCCOC)C(O*)OCCCC',\n",
       " '*Oc1cc(OCCCCOCCOCCOC)c(*)cc1CCCCCCCCC',\n",
       " '*C#Cc1cc(OCCOCCOC)c(*)cc1OCCCC',\n",
       " '*Oc1cccc(OCCCOC(=O)c2cc(C(=O)O)c(C(*)=O)cc2OCCOCCOCCOCCOCCOCCOCCOCCOCCOC)c1',\n",
       " '*CC(CO*)(COCCOC)OCCSCCCC',\n",
       " '*c1cc(-c2ccc(CC)cc2)c(*)cc1OCCCOCCOCCOC',\n",
       " '*CC(CO*)(COCC)COCCOCCOCCCC',\n",
       " '*Oc1ccc(C(=O)OC(=O)c2cc(OCCCCCCOCCOCCOCCOCCOCCOCCOC)c(CCCC)cc2*)cc1',\n",
       " '*Oc1cc(OC(=O)OCCOCCOCCOCCOC)c(*)cc1OC(=O)Oc1ccc(/N=N/c2ccc([N+](=O)[O-])cc2)cc1',\n",
       " '*Oc1cc(CCCCCCCCCCCOCCOC)c(*)cc1OCCCC',\n",
       " '*CC(*)c1ccc(OCCOCCOCCOCCOCCOCCOCCOCCOC)cc1OCC(CC)CCCCCC',\n",
       " '*CC(*)C(=O)NCC(CCCCC)COCCOCCOC',\n",
       " '*Oc1cccc(OC(=O)c2cc(OCCCCCCCCCCCCCC)c(C(*)=O)cc2OCCCCOCCOCCOCCOCCOCCOCCOC)c1O',\n",
       " '*CCOCCOCCOCCOCCOCCOCCOCCOc1ccc(-c2cc(CCCCCC)c(*)s2)cc1OC',\n",
       " '*CC(*)c1ccc(COCCOCCOCCOCCOCCOCCOCCOCCOCCOCCOCCOCCOCCOCCOCCOC)c(OCCOCCOCCOC)c1',\n",
       " '*CC(*)(C)C(=O)OC(CCCC)COCCOCCOC',\n",
       " '*CC(C*)(COCCCCCCCCCCCCCCCCCCCCCC)COCCOC',\n",
       " '*Oc1cc(CCCC)c(P(=O)(c2ccccc2)c2ccc(Oc3ccc(*)cc3)cc2)cc1OCCCOCCOCCOCC',\n",
       " '*C#Cc1cc(OCCOCCOCCOC)c(*)cc1OCCCC',\n",
       " '*CC(*)(C)C(=O)OC(CCCC)OCCOCCOCCOCCOCCOC',\n",
       " '*Oc1cccc(NC(=O)c2cc(C)c(C(*)=O)cc2OCCOCCOCCOC)c1',\n",
       " '*CC(CCCCCCCCOc1ccc(-c2ccc(O*)cc2)cc1)OC(COCCOC)OCCCCCCCCCCCC',\n",
       " '*CC(*)OCCOCCOCCOCCCOCCOCCOCCOCCOCCOCCOC',\n",
       " '*CC=P(*)(CCOCCOC)OCCCC',\n",
       " '*CCCCCCOc1ccc(-c2cc(OCCCCCCCCC)c(O*)cc2OCCCCCCCCCC)cc1OCCOCCOC',\n",
       " '*CC(COCCOC)OC(=O)c1cc(OCCCC)ccc1*',\n",
       " '*/C=C(/*)CCCc1ccc(OCCOCCOCCOC)s1',\n",
       " '*CCCCCCCCCOc1ccc(-c2cc(OCCCCCCCCCC)c(O*)cc2OCCOCCOCC)cc1OC',\n",
       " '*CC(*)Cc1cc(OCCOCCCC)ccc1OCCOCCOC',\n",
       " '*Oc1ccc(C(C)(C)c2cc(OCCOCCOC)c(*)nc2CCCC)cc1OC',\n",
       " '*Oc1ccc(OC(=O)c2cc(OCCOCCOCCOCCOCCOCCCCOCCOCCOCCOCCOC)c(C(*)=O)cc2C)cc1OCCCC',\n",
       " '*CC(CO*)(COCCOC)COCCOCCOCCOCCCC',\n",
       " '*CC(C=C)/C=C/C(=*)CCCOCCOC',\n",
       " '*Oc1ccc(NC(=O)c2cc(OCC(CC)CCCC)c(C(*)=O)cc2OCCOCCOCC)cc1',\n",
       " '*Oc1cc(*)ccc1OC(COCCOCCOCCOCCOC)OCCOC',\n",
       " '*CCCCCCC(COCCOC)O*',\n",
       " '*c1ncc(-c2nc(*)c(OCCOCCOCCOC)cc2OCCCCC)cc1OC',\n",
       " '*CC(CCCC)C(C*)COCCOC',\n",
       " '*CCOCCOCCOCc1cc(OC)c(-c2cc(CCCC)c(*)s2)cc1-c1ccc(Oc2ccc(C(C)(C)C)cc2)cc1',\n",
       " '*c1cc(OCCOCCOC)c(*)cc1OCCCCC',\n",
       " '*Oc1ccc(/C=N/c2ccc(OC(=O)OCCOCCOCCOCCOC)cc2)c(O*)c1O',\n",
       " '*OC(*)CCCOCCOCCOCCOCCOCCOC',\n",
       " '*Oc1ccc(NC(=O)c2cc(C(=O)O)c(C(*)=O)cc2OCCOCCOCCOC)cc1OC',\n",
       " '*C#CC(=*)CCCOC(=O)OCCCCOCCOCCOCCOC',\n",
       " '*CC(*)(C)C(=O)OCC(CCCC)CCCOCCOC',\n",
       " '*c1cc(OCCOCCOC)c(*)cc1CCCC',\n",
       " '*Oc1cc(COCCOCCOC)c(*)cc1OCCCCCC',\n",
       " '*/C=C/C1CC(*)C(C(=O)OCCOCCOC)C(OCCCCC)C1',\n",
       " '*Oc1ccc(OC(=O)c2ccc(OCCCC)cc2)c(*)c1COCCOCCOC',\n",
       " '*OC(COCCOC)C(*)c1ccc(OCCCC)cc1',\n",
       " '*Oc1ccc(C(CCCCC)c2ccc(OC(*)OCCOCCOC)cc2)cc1',\n",
       " '*Oc1ccc(C(*)=O)cc1C(=O)OCCOCCOCCOCCOC',\n",
       " '*CC(*)c1ccc(COCCOCCOC)c(CCCC)c1',\n",
       " '*c1cc(OCCOCCOC)c(*)cc1OCCCC',\n",
       " '*Oc1cc(OC(=O)c2ccc(/N=N/c3ccc(OCCOCCOCCOC)cc3)cc2)c(C)c(C(*)=O)c1OCCCC',\n",
       " '*CC=CC(=*)CCCCOCCOCCOCCOCCOCCOC',\n",
       " '*CCCc1ccc(/C=C/c2ccc(*)cc2)cc1OCCOCCOCCOCCOCCOCCOC',\n",
       " '*c1cc(OCCOCCOCCOCCOCCOCCCC)c(*)cc1OCCOC',\n",
       " '*Oc1ccc(C(CCCCC)c2ccc(OCC(COCCOCCOCCOC)O*)cc2)cc1',\n",
       " '*CC(*)(C)C(=O)OCCN(CCOCCOCCOCCOC)OCCOCCOC(=O)Oc1ccc(-c2ccc(OC(=O)CCCC)cc2)cc1',\n",
       " '*OC1=CC=C(C(=O)OCCOCCCOC(=O)c2ccccc2[SH](*)=O)CC(NC(=O)CCc2cccc(OC)n2)C=C1',\n",
       " '*CC(*)(CC=C)COCCOCCOCC[N+](CCC)(CCCC)OC',\n",
       " '*CCCC(=*)COCCOCCOCCOCCOCCOCCOCCOCCOCCOCCOCCOCCOCCOCCOCC[N+]C',\n",
       " '*CC(*)OCCCOCCOCCOCCOC',\n",
       " '*OC(*)CCCOCCOCCOC',\n",
       " '*CC(*)CCCCC(=O)OCCOCCOCCOCCOC',\n",
       " '*Cc1nc(OCCOCCOCCOCCOC)c(C(*)(C)C)cc1OCCCCC',\n",
       " '*CC(C*)(CCCCCC)COCCOCCCC',\n",
       " '*c1nnc(-c2cc(OCCOCCOCCOC)c(*)cc2CCCCCCCC)s1',\n",
       " '*CC(CO*)(COCCOC)COCCOCCOCCCC',\n",
       " '*CC(CCCC)(CO*)COCCOCCCOCC',\n",
       " '*Oc1ccc(OC(=O)c2cc(OCCCC)c(C(*)=O)cc2OC(F)(F)F)c(OCCOCCOC)c1',\n",
       " '*C(=*)CCCOCCOCCOCCOCCOCCOCCOCCOCCOC',\n",
       " '*CC(*)OCCOCCCOCCOCCOC',\n",
       " '*CC(*)c1ccc(COCCOCCOC)cc1OCCCCCCC',\n",
       " '*CCOc1ccc(-c2cc(OCC(OC)C(CC)CC(C)C)c(C(*)=O)cc2OCCOCCOCCOC)c(OCCCCC)c1',\n",
       " '*Nc1cc(OCCOCCOC)c(*)cc1OCCCC',\n",
       " '*CC#CC(CCCCCCCCCCCCCCCCOS(=O)(=O)O*)OCCOCCOC',\n",
       " '*/C=C/CC/C=C(/*)CCCCC(=O)OCCOCCOCCOC',\n",
       " '*CCOCc1ccc(*)c(OCCOCCOCCOC)c1OCCCCCCCCCCCCCC',\n",
       " '*CCN(CC)C(C)[SH](=O)(OCCCC)C(C=C)(CO*)COCCOCCOCCOCCOCCOC',\n",
       " '*CCOCCOCCOCCOCCOCCOc1ccc(/C=C/c2cc(OCCC)c(O*)cc2CCCC)cc1OC',\n",
       " '*CSCCCCSSc1cc(C(=O)OCCOCCOCCOC)ccc1O*',\n",
       " '*OC(*)CCCOCCOC',\n",
       " '*Oc1ccc(C(CCCC)c2ccc(*)cc2)c(OCCOCCOCCOC)c1',\n",
       " '*SC(=O)CCc1ccc(Cc2ccc(C(*)=O)cc2)cc1C(=O)OCCCOCCOCCOCCOCCOCCOCCOC',\n",
       " '*CCCNC(=O)c1cc(C(=O)N*)ccc1OC(CC)COCCOCCOCCOCCOC',\n",
       " '*CC(CCCC)(CCCOCCOCCOC)CO*',\n",
       " '*C(=CCN=C(*)OCCOCCOC)COCCOCCCC',\n",
       " '*c1cc(OCCCCCCOCCOC)c(*)cc1CCCCCC',\n",
       " '*CCCc1ccc(COP(=O)(O*)OCCCCCCOCCOCCOC)c2ccccc12',\n",
       " '*Oc1cccc(NC(=O)c2cc(OCCCCCCCCCCCCCC)c(C(*)=O)cc2OCCCCCCOCCOCCOC)c1',\n",
       " '*Oc1cc(OCCOCCOC)c(C(C)(CC)c2ccc(SCCCCC)cc2)cc1C(*)=O',\n",
       " '*CC(*)c1ccc(OCCCOCCOCCCCOCCOC)cc1',\n",
       " '*CC(*)c1ccc(COCCOCCOCCOCCCC)c(OCCC)c1',\n",
       " '*Oc1cc(CCCCCCCCCC)c(C=*)cc1OCCOCCOCCOC',\n",
       " '*OC(CCCOCCOC)OCC(*)OC']"
      ]
     },
     "execution_count": 48,
     "metadata": {},
     "output_type": "execute_result"
    }
   ],
   "source": [
    "the_rest"
   ]
  },
  {
   "cell_type": "code",
   "execution_count": 52,
   "id": "56462906",
   "metadata": {},
   "outputs": [],
   "source": [
    "heterocycles = [p for p in the_rest if 'n' in p]"
   ]
  },
  {
   "cell_type": "code",
   "execution_count": 65,
   "id": "d12cbb5c",
   "metadata": {
    "collapsed": true
   },
   "outputs": [
    {
     "data": {
      "text/plain": [
       "['*CC(COCCOC)(C(CCCC)=C(Cl)c1ccc(*)cn1)c1ccccc1',\n",
       " '*/C=N/c1cc(OCCOCCOCCOCCOCCOCCOC)c(*)nc1CCCC',\n",
       " '*Oc1ccc(C(C)(C)c2cc(OCCOCCOC)c(*)nc2CCCC)cc1OC',\n",
       " '*c1ncc(-c2nc(*)c(OCCOCCOCCOC)cc2OCCCCC)cc1OC',\n",
       " '*OC1=CC=C(C(=O)OCCOCCCOC(=O)c2ccccc2[SH](*)=O)CC(NC(=O)CCc2cccc(OC)n2)C=C1',\n",
       " '*Cc1nc(OCCOCCOCCOCCOC)c(C(*)(C)C)cc1OCCCCC',\n",
       " '*c1nnc(-c2cc(OCCOCCOCCOC)c(*)cc2CCCCCCCC)s1']"
      ]
     },
     "execution_count": 65,
     "metadata": {},
     "output_type": "execute_result"
    }
   ],
   "source": [
    "heterocycles"
   ]
  },
  {
   "cell_type": "code",
   "execution_count": 53,
   "id": "63f82dd7",
   "metadata": {},
   "outputs": [],
   "source": [
    "rest = list(set(the_rest).difference(set(heterocycles)))"
   ]
  },
  {
   "cell_type": "code",
   "execution_count": 54,
   "id": "6e13e156",
   "metadata": {},
   "outputs": [
    {
     "data": {
      "text/plain": [
       "126"
      ]
     },
     "execution_count": 54,
     "metadata": {},
     "output_type": "execute_result"
    }
   ],
   "source": [
    "len(rest)"
   ]
  },
  {
   "cell_type": "code",
   "execution_count": 55,
   "id": "be9b4b89",
   "metadata": {
    "collapsed": true
   },
   "outputs": [
    {
     "data": {
      "text/plain": [
       "['*CCCCCC(=CC=CC=C=*)OCCOCCOCCOC',\n",
       " '*/C=C(/*)CSCCSCCCOCCOCCOCCOCCOCCOCCOCCOCCOCCOC',\n",
       " '*CCCCOc1cc(CCCCCCCCCCCCCCCCCCCCC)c(/C=N/c2ccc(O*)cc2)cc1OCCOCCOC',\n",
       " '*CC(*)c1ccc(COC(CC)OCCOCCOCCOCCOCCOC)cc1',\n",
       " '*C/C=C(/*)C(CC)(COCCOC)COCCOCCOCC',\n",
       " '*Nc1cc(OCCOCCOCCOC)c(CCC=*)cc1OCCCC',\n",
       " '*Oc1ccc(-c2ccc(C(C)(CCCCCCCCCCCCCCCC)CCOCCOCCOC)cc2)cc1*',\n",
       " '*CCOCCOCC(Oc1ccc(-c2ccc(/N=N/c3ccc(/N=N/c4ccc(O*)cc4)cc3)cc2)cc1)OC(CCCCCC)COCCOC',\n",
       " '*CCOCCOc1ccc(CCCCc2ccc(O*)c(OCCC)c2)cc1OC',\n",
       " '*CC(COCCOCCOC)OC(=O)CCCC(=O)O*',\n",
       " '*CCOCCOCC(COCCOCCOCCOC)C(CCCCC)OC(=O)c1ccc(Cc2ccc(C(=O)O*)cc2)cc1',\n",
       " '*C(*)c1ccc(OCCOCCOCCOCCOC)cc1',\n",
       " '*/C=C(/*)CSCCCOCCOCCOCCOCCOC',\n",
       " '*CC(*)OCCCOCCOCCOCCOCCOC',\n",
       " '*Cc1ccc(COC(=O)CCCCC(=O)OCCOCCOCCOCCCCOC(=O)c2ccc(O*)cc2OCCOCCOC)cc1',\n",
       " '*CC(CO*)(COCCCC)COCCOCCOCC(C)(C)C',\n",
       " '*CCCCCCCCCCCCCCOc1ccc(-c2cc(OCCCCC)c(O*)c(OCCOCCOC)c2)cc1OC',\n",
       " '*Oc1ccc(Oc2ccc(S(=O)(=O)c3ccc(Oc4ccc(C(C)(C)c5cccc(*)c5)cc4)cc3)cc2)c(OCCOCCOCCOC)c1',\n",
       " '*Oc1ccc(/N=C(\\\\C)c2ccc(OC(*)OCCOCCOC)cc2)cc1',\n",
       " '*CC(CC)(CCOCCOCCOCCOC)C(=O)O*',\n",
       " '*Oc1ccc(OC(=O)c2ccc(C(*)=O)cc2Oc2ccccc2)cc1OCCOCCOCCOCCOC',\n",
       " '*CCCCP(CCCCCCCCC)C(=*)CCCCCOCCCOCCOCCOC',\n",
       " '*OC(*)CCCOCCOCCOCCOCCOC',\n",
       " '*[Ge](*)(NCCNC(C)CCOCCOCCOC)OCCCC',\n",
       " '*OC(CCCCC)OC(=O)c1ccc(C(*)=O)cc1OCCOCCOCCOC',\n",
       " '*CC(=O)C1CCC(C(=O)OCCC)[N+](*)(OC(=O)OCCOCCOC)O1',\n",
       " '*c1cc(OCCOCCOCCOCCOCCOCCOCCOCCOCCOC)c(*)cc1OCCCC',\n",
       " '*CC(COCCCC)C(CO*)COCCOCCOCCOCCOCCOC',\n",
       " '*CCCCCCCCCCCCCCOc1ccc(CCc2ccc(O*)c(OC)c2)cc1OCCCCCCCCCCOCCOCCOCCOC',\n",
       " '*/C=C/C(COCCOCCOC)(COCCOCCOCCOCCOCCOCCOCCOCCOCCOCCCC)C[Fe]*',\n",
       " '*Oc1ccc(-c2ccc(OC(=O)c3cc(OCCCCCCCCCC)c(C(*)=O)cc3SCC)c(OCCOCCOC)c2)cc1OC',\n",
       " '*CC(*)(C)C(=O)OCC(CCCC)COCCOCCOCCOCCOCCOCCOCCOCCOC',\n",
       " '*/C=C(/*)CCCOc1ccc(-c2ccc(OC(=O)OCCOCCOCCOCCOCCOCCOC)cc2)cc1',\n",
       " '*CCCCCCCCCCCCOc1ccc(-c2cc(OCCOCCOC)c(O*)cc2OCCCCCCCCCCCC)cc1',\n",
       " '*CC(COCCOCCOC)C(O*)OCCCC',\n",
       " '*Oc1cc(OCCCCOCCOCCOC)c(*)cc1CCCCCCCCC',\n",
       " '*C#Cc1cc(OCCOCCOC)c(*)cc1OCCCC',\n",
       " '*Oc1cccc(OCCCOC(=O)c2cc(C(=O)O)c(C(*)=O)cc2OCCOCCOCCOCCOCCOCCOCCOCCOCCOC)c1',\n",
       " '*CC(CO*)(COCCOC)OCCSCCCC',\n",
       " '*c1cc(-c2ccc(CC)cc2)c(*)cc1OCCCOCCOCCOC',\n",
       " '*CC(CO*)(COCC)COCCOCCOCCCC',\n",
       " '*Oc1ccc(C(=O)OC(=O)c2cc(OCCCCCCOCCOCCOCCOCCOCCOCCOC)c(CCCC)cc2*)cc1',\n",
       " '*Oc1cc(OC(=O)OCCOCCOCCOCCOC)c(*)cc1OC(=O)Oc1ccc(/N=N/c2ccc([N+](=O)[O-])cc2)cc1',\n",
       " '*Oc1cc(CCCCCCCCCCCOCCOC)c(*)cc1OCCCC',\n",
       " '*CC(*)c1ccc(OCCOCCOCCOCCOCCOCCOCCOCCOC)cc1OCC(CC)CCCCCC',\n",
       " '*CC(*)C(=O)NCC(CCCCC)COCCOCCOC',\n",
       " '*Oc1cccc(OC(=O)c2cc(OCCCCCCCCCCCCCC)c(C(*)=O)cc2OCCCCOCCOCCOCCOCCOCCOCCOC)c1O',\n",
       " '*CCOCCOCCOCCOCCOCCOCCOCCOc1ccc(-c2cc(CCCCCC)c(*)s2)cc1OC',\n",
       " '*CC(*)c1ccc(COCCOCCOCCOCCOCCOCCOCCOCCOCCOCCOCCOCCOCCOCCOCCOC)c(OCCOCCOCCOC)c1',\n",
       " '*CC(*)(C)C(=O)OC(CCCC)COCCOCCOC',\n",
       " '*CC(C*)(COCCCCCCCCCCCCCCCCCCCCCC)COCCOC',\n",
       " '*Oc1cc(CCCC)c(P(=O)(c2ccccc2)c2ccc(Oc3ccc(*)cc3)cc2)cc1OCCCOCCOCCOCC',\n",
       " '*C#Cc1cc(OCCOCCOCCOC)c(*)cc1OCCCC',\n",
       " '*CC(*)(C)C(=O)OC(CCCC)OCCOCCOCCOCCOCCOC',\n",
       " '*Oc1cccc(NC(=O)c2cc(C)c(C(*)=O)cc2OCCOCCOCCOC)c1',\n",
       " '*CC(CCCCCCCCOc1ccc(-c2ccc(O*)cc2)cc1)OC(COCCOC)OCCCCCCCCCCCC',\n",
       " '*CC(*)OCCOCCOCCOCCCOCCOCCOCCOCCOCCOCCOC',\n",
       " '*CC=P(*)(CCOCCOC)OCCCC',\n",
       " '*CCCCCCOc1ccc(-c2cc(OCCCCCCCCC)c(O*)cc2OCCCCCCCCCC)cc1OCCOCCOC',\n",
       " '*CC(COCCOC)OC(=O)c1cc(OCCCC)ccc1*',\n",
       " '*/C=C(/*)CCCc1ccc(OCCOCCOCCOC)s1',\n",
       " '*CCCCCCCCCOc1ccc(-c2cc(OCCCCCCCCCC)c(O*)cc2OCCOCCOCC)cc1OC',\n",
       " '*CC(*)Cc1cc(OCCOCCCC)ccc1OCCOCCOC',\n",
       " '*Oc1ccc(OC(=O)c2cc(OCCOCCOCCOCCOCCOCCCCOCCOCCOCCOCCOC)c(C(*)=O)cc2C)cc1OCCCC',\n",
       " '*CC(CO*)(COCCOC)COCCOCCOCCOCCCC',\n",
       " '*CC(C=C)/C=C/C(=*)CCCOCCOC',\n",
       " '*Oc1ccc(NC(=O)c2cc(OCC(CC)CCCC)c(C(*)=O)cc2OCCOCCOCC)cc1',\n",
       " '*Oc1cc(*)ccc1OC(COCCOCCOCCOCCOC)OCCOC',\n",
       " '*CCCCCCC(COCCOC)O*',\n",
       " '*CC(CCCC)C(C*)COCCOC',\n",
       " '*CCOCCOCCOCc1cc(OC)c(-c2cc(CCCC)c(*)s2)cc1-c1ccc(Oc2ccc(C(C)(C)C)cc2)cc1',\n",
       " '*c1cc(OCCOCCOC)c(*)cc1OCCCCC',\n",
       " '*Oc1ccc(/C=N/c2ccc(OC(=O)OCCOCCOCCOCCOC)cc2)c(O*)c1O',\n",
       " '*OC(*)CCCOCCOCCOCCOCCOCCOC',\n",
       " '*Oc1ccc(NC(=O)c2cc(C(=O)O)c(C(*)=O)cc2OCCOCCOCCOC)cc1OC',\n",
       " '*C#CC(=*)CCCOC(=O)OCCCCOCCOCCOCCOC',\n",
       " '*CC(*)(C)C(=O)OCC(CCCC)CCCOCCOC',\n",
       " '*c1cc(OCCOCCOC)c(*)cc1CCCC',\n",
       " '*Oc1cc(COCCOCCOC)c(*)cc1OCCCCCC',\n",
       " '*/C=C/C1CC(*)C(C(=O)OCCOCCOC)C(OCCCCC)C1',\n",
       " '*Oc1ccc(OC(=O)c2ccc(OCCCC)cc2)c(*)c1COCCOCCOC',\n",
       " '*OC(COCCOC)C(*)c1ccc(OCCCC)cc1',\n",
       " '*Oc1ccc(C(CCCCC)c2ccc(OC(*)OCCOCCOC)cc2)cc1',\n",
       " '*Oc1ccc(C(*)=O)cc1C(=O)OCCOCCOCCOCCOC',\n",
       " '*CC(*)c1ccc(COCCOCCOC)c(CCCC)c1',\n",
       " '*c1cc(OCCOCCOC)c(*)cc1OCCCC',\n",
       " '*Oc1cc(OC(=O)c2ccc(/N=N/c3ccc(OCCOCCOCCOC)cc3)cc2)c(C)c(C(*)=O)c1OCCCC',\n",
       " '*CC=CC(=*)CCCCOCCOCCOCCOCCOCCOC',\n",
       " '*CCCc1ccc(/C=C/c2ccc(*)cc2)cc1OCCOCCOCCOCCOCCOCCOC',\n",
       " '*c1cc(OCCOCCOCCOCCOCCOCCCC)c(*)cc1OCCOC',\n",
       " '*Oc1ccc(C(CCCCC)c2ccc(OCC(COCCOCCOCCOC)O*)cc2)cc1',\n",
       " '*CC(*)(C)C(=O)OCCN(CCOCCOCCOCCOC)OCCOCCOC(=O)Oc1ccc(-c2ccc(OC(=O)CCCC)cc2)cc1',\n",
       " '*CC(*)(CC=C)COCCOCCOCC[N+](CCC)(CCCC)OC',\n",
       " '*CCCC(=*)COCCOCCOCCOCCOCCOCCOCCOCCOCCOCCOCCOCCOCCOCCOCC[N+]C',\n",
       " '*CC(*)OCCCOCCOCCOCCOC',\n",
       " '*OC(*)CCCOCCOCCOC',\n",
       " '*CC(*)CCCCC(=O)OCCOCCOCCOCCOC',\n",
       " '*CC(C*)(CCCCCC)COCCOCCCC',\n",
       " '*CC(CO*)(COCCOC)COCCOCCOCCCC',\n",
       " '*CC(CCCC)(CO*)COCCOCCCOCC',\n",
       " '*Oc1ccc(OC(=O)c2cc(OCCCC)c(C(*)=O)cc2OC(F)(F)F)c(OCCOCCOC)c1',\n",
       " '*C(=*)CCCOCCOCCOCCOCCOCCOCCOCCOCCOC',\n",
       " '*CC(*)OCCOCCCOCCOCCOC',\n",
       " '*CC(*)c1ccc(COCCOCCOC)cc1OCCCCCCC',\n",
       " '*CCOc1ccc(-c2cc(OCC(OC)C(CC)CC(C)C)c(C(*)=O)cc2OCCOCCOCCOC)c(OCCCCC)c1',\n",
       " '*Nc1cc(OCCOCCOC)c(*)cc1OCCCC',\n",
       " '*CC#CC(CCCCCCCCCCCCCCCCOS(=O)(=O)O*)OCCOCCOC',\n",
       " '*/C=C/CC/C=C(/*)CCCCC(=O)OCCOCCOCCOC',\n",
       " '*CCOCc1ccc(*)c(OCCOCCOCCOC)c1OCCCCCCCCCCCCCC',\n",
       " '*CCN(CC)C(C)[SH](=O)(OCCCC)C(C=C)(CO*)COCCOCCOCCOCCOCCOC',\n",
       " '*CCOCCOCCOCCOCCOCCOc1ccc(/C=C/c2cc(OCCC)c(O*)cc2CCCC)cc1OC',\n",
       " '*CSCCCCSSc1cc(C(=O)OCCOCCOCCOC)ccc1O*',\n",
       " '*OC(*)CCCOCCOC',\n",
       " '*Oc1ccc(C(CCCC)c2ccc(*)cc2)c(OCCOCCOCCOC)c1',\n",
       " '*SC(=O)CCc1ccc(Cc2ccc(C(*)=O)cc2)cc1C(=O)OCCCOCCOCCOCCOCCOCCOCCOC',\n",
       " '*CCCNC(=O)c1cc(C(=O)N*)ccc1OC(CC)COCCOCCOCCOCCOC',\n",
       " '*CC(CCCC)(CCCOCCOCCOC)CO*',\n",
       " '*C(=CCN=C(*)OCCOCCOC)COCCOCCCC',\n",
       " '*c1cc(OCCCCCCOCCOC)c(*)cc1CCCCCC',\n",
       " '*CCCc1ccc(COP(=O)(O*)OCCCCCCOCCOCCOC)c2ccccc12',\n",
       " '*Oc1cccc(NC(=O)c2cc(OCCCCCCCCCCCCCC)c(C(*)=O)cc2OCCCCCCOCCOCCOC)c1',\n",
       " '*Oc1cc(OCCOCCOC)c(C(C)(CC)c2ccc(SCCCCC)cc2)cc1C(*)=O',\n",
       " '*CC(*)c1ccc(OCCCOCCOCCCCOCCOC)cc1',\n",
       " '*CC(*)c1ccc(COCCOCCOCCOCCCC)c(OCCC)c1',\n",
       " '*Oc1cc(CCCCCCCCCC)c(C=*)cc1OCCOCCOCCOC',\n",
       " '*OC(CCCOCCOC)OCC(*)OC']"
      ]
     },
     "execution_count": 55,
     "metadata": {},
     "output_type": "execute_result"
    }
   ],
   "source": [
    "rest"
   ]
  },
  {
   "cell_type": "code",
   "execution_count": 56,
   "id": "35378705",
   "metadata": {},
   "outputs": [
    {
     "data": {
      "text/plain": [
       "76"
      ]
     },
     "execution_count": 56,
     "metadata": {},
     "output_type": "execute_result"
    }
   ],
   "source": [
    "aromatic = [p for p in rest if 'c' in p]\n",
    "len(aromatic)"
   ]
  },
  {
   "cell_type": "code",
   "execution_count": 57,
   "id": "fd547da4",
   "metadata": {
    "collapsed": true
   },
   "outputs": [
    {
     "data": {
      "text/plain": [
       "['*CCCCOc1cc(CCCCCCCCCCCCCCCCCCCCC)c(/C=N/c2ccc(O*)cc2)cc1OCCOCCOC',\n",
       " '*CC(*)c1ccc(COC(CC)OCCOCCOCCOCCOCCOC)cc1',\n",
       " '*Nc1cc(OCCOCCOCCOC)c(CCC=*)cc1OCCCC',\n",
       " '*Oc1ccc(-c2ccc(C(C)(CCCCCCCCCCCCCCCC)CCOCCOCCOC)cc2)cc1*',\n",
       " '*CCOCCOCC(Oc1ccc(-c2ccc(/N=N/c3ccc(/N=N/c4ccc(O*)cc4)cc3)cc2)cc1)OC(CCCCCC)COCCOC',\n",
       " '*CCOCCOc1ccc(CCCCc2ccc(O*)c(OCCC)c2)cc1OC',\n",
       " '*CCOCCOCC(COCCOCCOCCOC)C(CCCCC)OC(=O)c1ccc(Cc2ccc(C(=O)O*)cc2)cc1',\n",
       " '*C(*)c1ccc(OCCOCCOCCOCCOC)cc1',\n",
       " '*Cc1ccc(COC(=O)CCCCC(=O)OCCOCCOCCOCCCCOC(=O)c2ccc(O*)cc2OCCOCCOC)cc1',\n",
       " '*CCCCCCCCCCCCCCOc1ccc(-c2cc(OCCCCC)c(O*)c(OCCOCCOC)c2)cc1OC',\n",
       " '*Oc1ccc(Oc2ccc(S(=O)(=O)c3ccc(Oc4ccc(C(C)(C)c5cccc(*)c5)cc4)cc3)cc2)c(OCCOCCOCCOC)c1',\n",
       " '*Oc1ccc(/N=C(\\\\C)c2ccc(OC(*)OCCOCCOC)cc2)cc1',\n",
       " '*Oc1ccc(OC(=O)c2ccc(C(*)=O)cc2Oc2ccccc2)cc1OCCOCCOCCOCCOC',\n",
       " '*OC(CCCCC)OC(=O)c1ccc(C(*)=O)cc1OCCOCCOCCOC',\n",
       " '*c1cc(OCCOCCOCCOCCOCCOCCOCCOCCOCCOC)c(*)cc1OCCCC',\n",
       " '*CCCCCCCCCCCCCCOc1ccc(CCc2ccc(O*)c(OC)c2)cc1OCCCCCCCCCCOCCOCCOCCOC',\n",
       " '*Oc1ccc(-c2ccc(OC(=O)c3cc(OCCCCCCCCCC)c(C(*)=O)cc3SCC)c(OCCOCCOC)c2)cc1OC',\n",
       " '*/C=C(/*)CCCOc1ccc(-c2ccc(OC(=O)OCCOCCOCCOCCOCCOCCOC)cc2)cc1',\n",
       " '*CCCCCCCCCCCCOc1ccc(-c2cc(OCCOCCOC)c(O*)cc2OCCCCCCCCCCCC)cc1',\n",
       " '*Oc1cc(OCCCCOCCOCCOC)c(*)cc1CCCCCCCCC',\n",
       " '*C#Cc1cc(OCCOCCOC)c(*)cc1OCCCC',\n",
       " '*Oc1cccc(OCCCOC(=O)c2cc(C(=O)O)c(C(*)=O)cc2OCCOCCOCCOCCOCCOCCOCCOCCOCCOC)c1',\n",
       " '*c1cc(-c2ccc(CC)cc2)c(*)cc1OCCCOCCOCCOC',\n",
       " '*Oc1ccc(C(=O)OC(=O)c2cc(OCCCCCCOCCOCCOCCOCCOCCOCCOC)c(CCCC)cc2*)cc1',\n",
       " '*Oc1cc(OC(=O)OCCOCCOCCOCCOC)c(*)cc1OC(=O)Oc1ccc(/N=N/c2ccc([N+](=O)[O-])cc2)cc1',\n",
       " '*Oc1cc(CCCCCCCCCCCOCCOC)c(*)cc1OCCCC',\n",
       " '*CC(*)c1ccc(OCCOCCOCCOCCOCCOCCOCCOCCOC)cc1OCC(CC)CCCCCC',\n",
       " '*Oc1cccc(OC(=O)c2cc(OCCCCCCCCCCCCCC)c(C(*)=O)cc2OCCCCOCCOCCOCCOCCOCCOCCOC)c1O',\n",
       " '*CCOCCOCCOCCOCCOCCOCCOCCOc1ccc(-c2cc(CCCCCC)c(*)s2)cc1OC',\n",
       " '*CC(*)c1ccc(COCCOCCOCCOCCOCCOCCOCCOCCOCCOCCOCCOCCOCCOCCOCCOC)c(OCCOCCOCCOC)c1',\n",
       " '*Oc1cc(CCCC)c(P(=O)(c2ccccc2)c2ccc(Oc3ccc(*)cc3)cc2)cc1OCCCOCCOCCOCC',\n",
       " '*C#Cc1cc(OCCOCCOCCOC)c(*)cc1OCCCC',\n",
       " '*Oc1cccc(NC(=O)c2cc(C)c(C(*)=O)cc2OCCOCCOCCOC)c1',\n",
       " '*CC(CCCCCCCCOc1ccc(-c2ccc(O*)cc2)cc1)OC(COCCOC)OCCCCCCCCCCCC',\n",
       " '*CCCCCCOc1ccc(-c2cc(OCCCCCCCCC)c(O*)cc2OCCCCCCCCCC)cc1OCCOCCOC',\n",
       " '*CC(COCCOC)OC(=O)c1cc(OCCCC)ccc1*',\n",
       " '*/C=C(/*)CCCc1ccc(OCCOCCOCCOC)s1',\n",
       " '*CCCCCCCCCOc1ccc(-c2cc(OCCCCCCCCCC)c(O*)cc2OCCOCCOCC)cc1OC',\n",
       " '*CC(*)Cc1cc(OCCOCCCC)ccc1OCCOCCOC',\n",
       " '*Oc1ccc(OC(=O)c2cc(OCCOCCOCCOCCOCCOCCCCOCCOCCOCCOCCOC)c(C(*)=O)cc2C)cc1OCCCC',\n",
       " '*Oc1ccc(NC(=O)c2cc(OCC(CC)CCCC)c(C(*)=O)cc2OCCOCCOCC)cc1',\n",
       " '*Oc1cc(*)ccc1OC(COCCOCCOCCOCCOC)OCCOC',\n",
       " '*CCOCCOCCOCc1cc(OC)c(-c2cc(CCCC)c(*)s2)cc1-c1ccc(Oc2ccc(C(C)(C)C)cc2)cc1',\n",
       " '*c1cc(OCCOCCOC)c(*)cc1OCCCCC',\n",
       " '*Oc1ccc(/C=N/c2ccc(OC(=O)OCCOCCOCCOCCOC)cc2)c(O*)c1O',\n",
       " '*Oc1ccc(NC(=O)c2cc(C(=O)O)c(C(*)=O)cc2OCCOCCOCCOC)cc1OC',\n",
       " '*c1cc(OCCOCCOC)c(*)cc1CCCC',\n",
       " '*Oc1cc(COCCOCCOC)c(*)cc1OCCCCCC',\n",
       " '*Oc1ccc(OC(=O)c2ccc(OCCCC)cc2)c(*)c1COCCOCCOC',\n",
       " '*OC(COCCOC)C(*)c1ccc(OCCCC)cc1',\n",
       " '*Oc1ccc(C(CCCCC)c2ccc(OC(*)OCCOCCOC)cc2)cc1',\n",
       " '*Oc1ccc(C(*)=O)cc1C(=O)OCCOCCOCCOCCOC',\n",
       " '*CC(*)c1ccc(COCCOCCOC)c(CCCC)c1',\n",
       " '*c1cc(OCCOCCOC)c(*)cc1OCCCC',\n",
       " '*Oc1cc(OC(=O)c2ccc(/N=N/c3ccc(OCCOCCOCCOC)cc3)cc2)c(C)c(C(*)=O)c1OCCCC',\n",
       " '*CCCc1ccc(/C=C/c2ccc(*)cc2)cc1OCCOCCOCCOCCOCCOCCOC',\n",
       " '*c1cc(OCCOCCOCCOCCOCCOCCCC)c(*)cc1OCCOC',\n",
       " '*Oc1ccc(C(CCCCC)c2ccc(OCC(COCCOCCOCCOC)O*)cc2)cc1',\n",
       " '*CC(*)(C)C(=O)OCCN(CCOCCOCCOCCOC)OCCOCCOC(=O)Oc1ccc(-c2ccc(OC(=O)CCCC)cc2)cc1',\n",
       " '*Oc1ccc(OC(=O)c2cc(OCCCC)c(C(*)=O)cc2OC(F)(F)F)c(OCCOCCOC)c1',\n",
       " '*CC(*)c1ccc(COCCOCCOC)cc1OCCCCCCC',\n",
       " '*CCOc1ccc(-c2cc(OCC(OC)C(CC)CC(C)C)c(C(*)=O)cc2OCCOCCOCCOC)c(OCCCCC)c1',\n",
       " '*Nc1cc(OCCOCCOC)c(*)cc1OCCCC',\n",
       " '*CCOCc1ccc(*)c(OCCOCCOCCOC)c1OCCCCCCCCCCCCCC',\n",
       " '*CCOCCOCCOCCOCCOCCOc1ccc(/C=C/c2cc(OCCC)c(O*)cc2CCCC)cc1OC',\n",
       " '*CSCCCCSSc1cc(C(=O)OCCOCCOCCOC)ccc1O*',\n",
       " '*Oc1ccc(C(CCCC)c2ccc(*)cc2)c(OCCOCCOCCOC)c1',\n",
       " '*SC(=O)CCc1ccc(Cc2ccc(C(*)=O)cc2)cc1C(=O)OCCCOCCOCCOCCOCCOCCOCCOC',\n",
       " '*CCCNC(=O)c1cc(C(=O)N*)ccc1OC(CC)COCCOCCOCCOCCOC',\n",
       " '*c1cc(OCCCCCCOCCOC)c(*)cc1CCCCCC',\n",
       " '*CCCc1ccc(COP(=O)(O*)OCCCCCCOCCOCCOC)c2ccccc12',\n",
       " '*Oc1cccc(NC(=O)c2cc(OCCCCCCCCCCCCCC)c(C(*)=O)cc2OCCCCCCOCCOCCOC)c1',\n",
       " '*Oc1cc(OCCOCCOC)c(C(C)(CC)c2ccc(SCCCCC)cc2)cc1C(*)=O',\n",
       " '*CC(*)c1ccc(OCCCOCCOCCCCOCCOC)cc1',\n",
       " '*CC(*)c1ccc(COCCOCCOCCOCCCC)c(OCCC)c1',\n",
       " '*Oc1cc(CCCCCCCCCC)c(C=*)cc1OCCOCCOCCOC']"
      ]
     },
     "execution_count": 57,
     "metadata": {},
     "output_type": "execute_result"
    }
   ],
   "source": [
    "aromatic"
   ]
  },
  {
   "cell_type": "code",
   "execution_count": 59,
   "id": "7182e328",
   "metadata": {},
   "outputs": [
    {
     "data": {
      "text/plain": [
       "50"
      ]
     },
     "execution_count": 59,
     "metadata": {},
     "output_type": "execute_result"
    }
   ],
   "source": [
    "misc = list(set(rest).difference(set(aromatic)))\n",
    "len(misc)"
   ]
  },
  {
   "cell_type": "code",
   "execution_count": 60,
   "id": "0862b4a2",
   "metadata": {
    "collapsed": true
   },
   "outputs": [
    {
     "data": {
      "text/plain": [
       "['*CC(*)CCCCC(=O)OCCOCCOCCOCCOC',\n",
       " '*CCCCCC(=CC=CC=C=*)OCCOCCOCCOC',\n",
       " '*/C=C(/*)CSCCSCCCOCCOCCOCCOCCOCCOCCOCCOCCOCCOC',\n",
       " '*CC(CO*)(COCCOC)COCCOCCOCCOCCCC',\n",
       " '*CC(C*)(CCCCCC)COCCOCCCC',\n",
       " '*CC(=O)C1CCC(C(=O)OCCC)[N+](*)(OC(=O)OCCOCCOC)O1',\n",
       " '*CC(C=C)/C=C/C(=*)CCCOCCOC',\n",
       " '*OC(CCCOCCOC)OCC(*)OC',\n",
       " '*CC(COCCCC)C(CO*)COCCOCCOCCOCCOCCOC',\n",
       " '*C/C=C(/*)C(CC)(COCCOC)COCCOCCOCC',\n",
       " '*CC(CO*)(COCCOC)COCCOCCOCCCC',\n",
       " '*CC(CCCC)(CO*)COCCOCCCOCC',\n",
       " '*/C=C/C(COCCOCCOC)(COCCOCCOCCOCCOCCOCCOCCOCCOCCOCCCC)C[Fe]*',\n",
       " '*C(=*)CCCOCCOCCOCCOCCOCCOCCOCCOCCOC',\n",
       " '*CC(*)OCCOCCCOCCOCCOC',\n",
       " '*CCCCCCC(COCCOC)O*',\n",
       " '*CC(*)(C)C(=O)OCC(CCCC)COCCOCCOCCOCCOCCOCCOCCOCCOC',\n",
       " '*CC(CCCC)C(C*)COCCOC',\n",
       " '*CC(COCCOCCOC)OC(=O)CCCC(=O)O*',\n",
       " '*CC(COCCOCCOC)C(O*)OCCCC',\n",
       " '*OC(*)CCCOCCOCCOCCOCCOCCOC',\n",
       " '*CC#CC(CCCCCCCCCCCCCCCCOS(=O)(=O)O*)OCCOCCOC',\n",
       " '*CC(CO*)(COCCOC)OCCSCCCC',\n",
       " '*/C=C/CC/C=C(/*)CCCCC(=O)OCCOCCOCCOC',\n",
       " '*C#CC(=*)CCCOC(=O)OCCCCOCCOCCOCCOC',\n",
       " '*CC(*)(C)C(=O)OCC(CCCC)CCCOCCOC',\n",
       " '*/C=C(/*)CSCCCOCCOCCOCCOCCOC',\n",
       " '*CC(CO*)(COCC)COCCOCCOCCCC',\n",
       " '*CC(*)OCCCOCCOCCOCCOCCOC',\n",
       " '*CC(CO*)(COCCCC)COCCOCCOCC(C)(C)C',\n",
       " '*CCN(CC)C(C)[SH](=O)(OCCCC)C(C=C)(CO*)COCCOCCOCCOCCOCCOC',\n",
       " '*OC(*)CCCOCCOC',\n",
       " '*CC(CC)(CCOCCOCCOCCOC)C(=O)O*',\n",
       " '*CC(*)C(=O)NCC(CCCCC)COCCOCCOC',\n",
       " '*/C=C/C1CC(*)C(C(=O)OCCOCCOC)C(OCCCCC)C1',\n",
       " '*CC(*)(C)C(=O)OC(CCCC)COCCOCCOC',\n",
       " '*CC(CCCC)(CCCOCCOCCOC)CO*',\n",
       " '*CC(C*)(COCCCCCCCCCCCCCCCCCCCCCC)COCCOC',\n",
       " '*CC=CC(=*)CCCCOCCOCCOCCOCCOCCOC',\n",
       " '*C(=CCN=C(*)OCCOCCOC)COCCOCCCC',\n",
       " '*CC(*)(C)C(=O)OC(CCCC)OCCOCCOCCOCCOCCOC',\n",
       " '*CCCCP(CCCCCCCCC)C(=*)CCCCCOCCCOCCOCCOC',\n",
       " '*OC(*)CCCOCCOCCOC',\n",
       " '*CC(*)OCCOCCOCCOCCCOCCOCCOCCOCCOCCOCCOC',\n",
       " '*CC=P(*)(CCOCCOC)OCCCC',\n",
       " '*CC(*)(CC=C)COCCOCCOCC[N+](CCC)(CCCC)OC',\n",
       " '*OC(*)CCCOCCOCCOCCOCCOC',\n",
       " '*CCCC(=*)COCCOCCOCCOCCOCCOCCOCCOCCOCCOCCOCCOCCOCCOCCOCC[N+]C',\n",
       " '*CC(*)OCCCOCCOCCOCCOC',\n",
       " '*[Ge](*)(NCCNC(C)CCOCCOCCOC)OCCCC']"
      ]
     },
     "execution_count": 60,
     "metadata": {},
     "output_type": "execute_result"
    }
   ],
   "source": [
    "misc"
   ]
  },
  {
   "cell_type": "code",
   "execution_count": 64,
   "id": "0d82eb04",
   "metadata": {},
   "outputs": [
    {
     "name": "stdout",
     "output_type": "stream",
     "text": [
      "2\n"
     ]
    }
   ],
   "source": [
    "print(len([p for p in misc if '#' in p]))"
   ]
  }
 ],
 "metadata": {
  "kernelspec": {
   "display_name": "Python 3",
   "language": "python",
   "name": "python3"
  },
  "language_info": {
   "codemirror_mode": {
    "name": "ipython",
    "version": 3
   },
   "file_extension": ".py",
   "mimetype": "text/x-python",
   "name": "python",
   "nbconvert_exporter": "python",
   "pygments_lexer": "ipython3",
   "version": "3.8.8"
  }
 },
 "nbformat": 4,
 "nbformat_minor": 5
}
